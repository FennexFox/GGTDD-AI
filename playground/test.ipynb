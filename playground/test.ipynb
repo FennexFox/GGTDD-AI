{
 "cells": [
  {
   "cell_type": "code",
   "execution_count": 1,
   "metadata": {},
   "outputs": [
    {
     "data": {
      "text/plain": [
       "True"
      ]
     },
     "execution_count": 1,
     "metadata": {},
     "output_type": "execute_result"
    }
   ],
   "source": [
    "from dotenv import load_dotenv\n",
    "load_dotenv()"
   ]
  },
  {
   "cell_type": "code",
   "execution_count": 2,
   "metadata": {},
   "outputs": [],
   "source": [
    "from langchain_openai import ChatOpenAI\n",
    "from langchain_core.prompts import ChatPromptTemplate\n",
    "from langchain_core.output_parsers import PydanticOutputParser\n",
    "\n",
    "from pydantic import BaseModel\n",
    "from datetime import datetime\n",
    "from pprint import pprint"
   ]
  },
  {
   "cell_type": "code",
   "execution_count": null,
   "metadata": {},
   "outputs": [
    {
     "data": {
      "text/plain": [
       "'출퇴근길, 근무중, 게임, AI 공부, 애완견 돌보기, 휴식'"
      ]
     },
     "execution_count": 3,
     "metadata": {},
     "output_type": "execute_result"
    }
   ],
   "source": [
    "class Scene(BaseModel):\n",
    "    name: str\n",
    "    location_tags: list[str]\n",
    "    time_tags: list[str]\n",
    "    other_tags: list[str]\n",
    "\n",
    "class Scenes(BaseModel):\n",
    "    scenes: list[Scene]\n",
    "\n",
    "scenes_list = [\"출퇴근길\", \"근무중\", \"게임\", \"AI 공부\", \"애완견 돌보기\", \"휴식\"]"
   ]
  },
  {
   "cell_type": "code",
   "execution_count": 4,
   "metadata": {},
   "outputs": [],
   "source": [
    "class User(BaseModel):\n",
    "    name: str\n",
    "    location: str\n",
    "    birthdate: datetime\n",
    "    occupation: str\n",
    "    personality: list[str]\n",
    "    scenes: list[Scene] = []\n",
    "    prompt: str\n",
    "    positives: list[str]\n",
    "    negatives: list[str]\n",
    "    \n",
    "user_context = {\n",
    "    'name': '윤형석',\n",
    "    'location': '서울',\n",
    "    'birthdate': datetime.strptime('1990-03-28', '%Y-%m-%d'),\n",
    "    'occupation': '회사원',\n",
    "    'personality': ['Extroverted', 'Intuitive', 'Thinking', 'Perceiving'],\n",
    "    'prompt': 'Your prompt here',\n",
    "    'positives': ['사고력', '지적 호기심', '창의력'],\n",
    "    'negatives': ['불안', '스트레스', '피곤']\n",
    "}\n",
    "\n",
    "user = User(**user_context)\n",
    "\n",
    "user_bio = user.model_dump_json()"
   ]
  },
  {
   "cell_type": "code",
   "execution_count": 12,
   "metadata": {},
   "outputs": [
    {
     "name": "stdout",
     "output_type": "stream",
     "text": [
      "{\"name\":\"출퇴근길\",\"location_tags\":[\"서울\",\"지하철\",\"버스\",\"도로\"],\"time_tags\":[\"주중\",\"오전\",\"오후\"],\"other_tags\":[\"교통\",\"스트레스\",\"바쁜 일정\"]}\n",
      "{\"name\":\"근무중\",\"location_tags\":[\"사무실\",\"서울\"],\"time_tags\":[\"주중\",\"오전\",\"오후\"],\"other_tags\":[\"업무\",\"집중\",\"스트레스\",\"팀워크\"]}\n",
      "{\"name\":\"게임\",\"location_tags\":[\"집\",\"서울\"],\"time_tags\":[\"주말\",\"저녁\"],\"other_tags\":[\"취미\",\"여가\",\"스트레스 해소\",\"사회적 활동\"]}\n",
      "{\"name\":\"AI 공부\",\"location_tags\":[\"집\",\"서울\"],\"time_tags\":[\"주말\",\"오후\"],\"other_tags\":[\"학습\",\"지적 호기심\",\"자기계발\",\"미래 기술\"]}\n",
      "{\"name\":\"애완견 돌보기\",\"location_tags\":[\"집\",\"서울\",\"공원\"],\"time_tags\":[\"주말\",\"오후\"],\"other_tags\":[\"애완동물\",\"스트레스 해소\",\"책임감\",\"운동\"]}\n",
      "{\"name\":\"휴식\",\"location_tags\":[\"집\",\"서울\"],\"time_tags\":[\"주말\",\"저녁\"],\"other_tags\":[\"휴식\",\"재충전\",\"스트레스 해소\",\"자기 돌봄\"]}\n"
     ]
    }
   ],
   "source": [
    "pydantic_parser = PydanticOutputParser(pydantic_object=Scenes)\n",
    "\n",
    "scene_parser = ChatOpenAI(model_name=\"gpt-4o-mini\", temperature=0.5)\n",
    "\n",
    "scene_prompt = ChatPromptTemplate.from_template(\"\"\"\n",
    "다음은 사용자의 하루를 구성하는 장면들입니다. 사용자의 정보와 이 장면들을 바탕으로, 각각의 장면에 어울리는 시간, 공간, 기타 태그를 3~5개씩 필요에 따라 작성하고, 아래 지침에 따라 json 포맷으로 반환하세요.\n",
    "태그를 붙이는 목적은 할 일을 관리하기 위한 데이터베이스에 사용하기 위해서입니다. 각각의 할 일은 사용자의 하루를 나타내는 여러 장면을 담은 태그와 함께 저장되고, 사용자가 처한 맥락과 상황을 표현하는 태그에 맞춰 할 일을 추천합니다.\n",
    "\n",
    "시간 태그에는 휴일 여부, 요일, 하루 중의 시간대 등의 정보를 포함하세요.\n",
    "공간 태그에는 사용자의 위치, 활동하는 장소 등의 정보를 포함하세요.\n",
    "기타 태그에는 시간과 공간 태그에 포함되지 않지만 할 일의 맥락과 상황을 검색하기에 좋은 정보를 포함하세요.\n",
    "\n",
    "사용자 정보: {bio}\n",
    "장면: {scenes}\n",
    "지침: {format_instruction}\n",
    "\"\"\").partial(format_instruction=pydantic_parser.get_format_instructions())\n",
    "\n",
    "scenes_chain = scene_prompt | scene_parser | pydantic_parser\n",
    "response = scenes_chain.invoke({\"bio\": user_bio, \"scenes\": scenes_list})\n",
    "\n",
    "for scene in response.scenes:\n",
    "    user.scenes.append(scene)\n",
    "    print(scene.model_dump_json())"
   ]
  },
  {
   "cell_type": "code",
   "execution_count": 6,
   "metadata": {},
   "outputs": [
    {
     "data": {
      "text/plain": [
       "{'name': '애완견 돌보기',\n",
       " 'location_tags': ['집', '서울', '공원'],\n",
       " 'time_tags': ['주말', '오후'],\n",
       " 'other_tags': ['애완동물', '스트레스 해소', '책임감']}"
      ]
     },
     "execution_count": 6,
     "metadata": {},
     "output_type": "execute_result"
    }
   ],
   "source": [
    "import json\n",
    "\n",
    "user_bio = user.model_dump_json()\n",
    "user_dict = json.loads(user_bio)\n",
    "user_dict['scenes'][4]"
   ]
  },
  {
   "cell_type": "code",
   "execution_count": 7,
   "metadata": {},
   "outputs": [],
   "source": [
    "# LLM 초기화\n",
    "llm = ChatOpenAI(model_name=\"gpt-4o-mini\", temperature=0, max_tokens=None)"
   ]
  },
  {
   "cell_type": "code",
   "execution_count": 8,
   "metadata": {},
   "outputs": [],
   "source": [
    "from langchain.schema import BaseOutputParser\n",
    "\n",
    "class CustomListOutputParser(BaseOutputParser):\n",
    "    def parse(self, text: str) -> list[str]:\n",
    "        responses = text.split(\"---\")\n",
    "        items = [response.strip() for response in responses]\n",
    "        return items\n",
    "\n",
    "    def get_format_instructions(self) -> str:\n",
    "        return '서로 다른 답변은 \"---\"로 구분하세요.'\n",
    "\n",
    "# 파서 초기화\n",
    "response_parser = CustomListOutputParser()"
   ]
  },
  {
   "cell_type": "code",
   "execution_count": 9,
   "metadata": {},
   "outputs": [],
   "source": [
    "prompt_template = ChatPromptTemplate.from_template(\"\"\"\n",
    "다음은 사용자 정보입니다. 이 정보를 바탕으로, 사용자의 성격과 하루 일과, 주요 관심사를를 상상해서 1문단으로 작성하세요.\n",
    "이를 작성하는 이유는 사용자의 할 일을 사용자의 생활패턴과 맥락에 맞게 구체화하여 추천하기 위해서입니다.\n",
    "\n",
    "작성된 내용 중 사용자가 적합한 것을 선택할 수 있도록, 서로 다른 내용의 답변을 3~5개 생성하세요.\n",
    "각각의 답변은 사용자 정보의 다른 부분에 집중하며, 서로 비슷하지 않은 내용이어야 합니다.\n",
    "예를 들어 한 답변이 \"대중교통\"이라는 키워드에 집중한다면, 다른 답변은 \"도서관\" 등 다른 맥락에 집중할 수 있습니다.\n",
    "만약 비슷한 답변이 생성된다면 생략하세요.\n",
    "\n",
    "{format_instruction}\n",
    "\n",
    "사용자 정보: {bio}\n",
    "\n",
    "답변:\n",
    "\"\"\").partial(format_instruction=response_parser.get_format_instructions())\n",
    "\n",
    "chain = prompt_template | llm | response_parser\n",
    "responses = chain.invoke({\"bio\": user_bio})"
   ]
  },
  {
   "cell_type": "code",
   "execution_count": 10,
   "metadata": {},
   "outputs": [
    {
     "name": "stdout",
     "output_type": "stream",
     "text": [
      "('윤형석은 서울에서 회사원으로 일하며, 외향적이고 직관적인 성격을 가진 사람입니다. 그는 주중에는 출퇴근길에 지하철이나 버스를 이용하며, '\n",
      " '이 시간 동안 스트레스를 느끼기도 하지만, 사람들과의 소통을 즐깁니다. 근무 중에는 집중력을 발휘해 업무를 처리하며, 주말에는 집에서 '\n",
      " '게임을 하거나 AI 공부를 통해 지적 호기심을 충족시키는 것을 좋아합니다. 또한, 애완견을 돌보는 시간을 통해 책임감을 느끼고 스트레스를 '\n",
      " '해소하며, 저녁에는 휴식을 취하며 재충전하는 일상을 보냅니다.')\n",
      "---\n",
      "('윤형석은 주중에 출퇴근길에 지하철을 이용하며, 이 시간 동안 다양한 사람들과의 소통을 즐깁니다. 그는 외향적인 성격 덕분에 대중교통에서의 '\n",
      " '소소한 대화나 만남을 통해 하루를 시작하는 것을 좋아합니다. 이러한 경험은 그에게 스트레스를 줄이는데 도움을 주며, 업무에 대한 집중력을 '\n",
      " '높이는 데 기여합니다.')\n",
      "---\n",
      "('주말에는 윤형석이 집에서 AI 공부를 하며 지적 호기심을 충족시키는 시간을 가집니다. 그는 새로운 기술과 트렌드에 대한 학습을 통해 '\n",
      " '자기계발에 힘쓰며, 이러한 과정에서 느끼는 성취감은 그에게 큰 만족을 줍니다. 이 시간은 그가 스트레스를 해소하고, 창의력을 발휘할 수 '\n",
      " '있는 기회를 제공합니다.')\n",
      "---\n",
      "('윤형석은 주말 오후에 애완견을 돌보는 시간을 소중히 여깁니다. 공원에서 애완견과 함께 산책하며 자연을 느끼고, 책임감을 느끼는 이 시간은 '\n",
      " '그에게 큰 스트레스 해소가 됩니다. 그는 애완견과의 교감을 통해 정서적인 안정감을 찾고, 일상에서의 피로를 잊을 수 있습니다.')\n",
      "---\n",
      "('주말 저녁에는 윤형석이 집에서 휴식을 취하며 재충전하는 시간을 가집니다. 그는 이 시간을 통해 일주일 동안 쌓인 스트레스를 해소하고, '\n",
      " '다음 주를 준비하는 데 필요한 에너지를 충전합니다. 편안한 음악을 듣거나 좋아하는 영화를 보며 여유를 즐기는 것이 그의 일상에서 중요한 '\n",
      " '부분입니다.')\n",
      "---\n"
     ]
    }
   ],
   "source": [
    "for response in responses:\n",
    "    pprint(response)\n",
    "    print(\"---\")"
   ]
  },
  {
   "cell_type": "code",
   "execution_count": 11,
   "metadata": {},
   "outputs": [
    {
     "data": {
      "text/plain": [
       "'윤형석은 서울에서 회사원으로 일하며, 외향적이고 직관적인 성격을 가진 사람입니다. 그는 주중에는 출퇴근길에 지하철이나 버스를 이용하며, 이 시간 동안 스트레스를 느끼기도 하지만, 사람들과의 소통을 즐깁니다. 근무 중에는 집중력을 발휘해 업무를 처리하며, 주말에는 집에서 게임을 하거나 AI 공부를 통해 지적 호기심을 충족시키는 것을 좋아합니다. 또한, 애완견을 돌보는 시간을 통해 책임감을 느끼고 스트레스를 해소하며, 저녁에는 휴식을 취하며 재충전하는 일상을 보냅니다.'"
      ]
     },
     "execution_count": 11,
     "metadata": {},
     "output_type": "execute_result"
    }
   ],
   "source": [
    "def set_prompt(user: User, responses: list[str], index: int):\n",
    "    if index < 0 or index >= len(responses):\n",
    "        raise IndexError(\"Index out of bounds.\")\n",
    "    user.prompt = responses[index].strip()\n",
    "\n",
    "set_prompt(user, responses, 0)\n",
    "user.prompt"
   ]
  },
  {
   "cell_type": "code",
   "execution_count": null,
   "metadata": {},
   "outputs": [],
   "source": []
  }
 ],
 "metadata": {
  "kernelspec": {
   "display_name": "GGTDD",
   "language": "python",
   "name": "python3"
  },
  "language_info": {
   "codemirror_mode": {
    "name": "ipython",
    "version": 3
   },
   "file_extension": ".py",
   "mimetype": "text/x-python",
   "name": "python",
   "nbconvert_exporter": "python",
   "pygments_lexer": "ipython3",
   "version": "3.12.9"
  }
 },
 "nbformat": 4,
 "nbformat_minor": 2
}
