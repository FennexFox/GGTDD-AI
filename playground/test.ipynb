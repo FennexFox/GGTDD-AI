{
 "cells": [
  {
   "cell_type": "code",
   "execution_count": 1,
   "metadata": {},
   "outputs": [
    {
     "data": {
      "text/plain": [
       "True"
      ]
     },
     "execution_count": 1,
     "metadata": {},
     "output_type": "execute_result"
    }
   ],
   "source": [
    "from dotenv import load_dotenv\n",
    "load_dotenv()"
   ]
  },
  {
   "cell_type": "code",
   "execution_count": 2,
   "metadata": {},
   "outputs": [],
   "source": [
    "from langchain_openai import ChatOpenAI\n",
    "from langchain_openai import OpenAIEmbeddings\n",
    "from langchain_chroma import Chroma\n",
    "from langchain_core.prompts import ChatPromptTemplate\n",
    "from langchain_core.output_parsers import PydanticOutputParser\n",
    "\n",
    "from pydantic import BaseModel\n",
    "from typing import Optional\n",
    "from datetime import datetime\n",
    "from pprint import pprint"
   ]
  },
  {
   "cell_type": "code",
   "execution_count": 3,
   "metadata": {},
   "outputs": [],
   "source": [
    "class Scene(BaseModel):\n",
    "    name: str\n",
    "    location_tags: list[str]\n",
    "    time_tags: list[str]\n",
    "    other_tags: list[str]\n",
    "\n",
    "class Scenes(BaseModel):\n",
    "    scenes: list[Scene]\n",
    "\n",
    "scenes_list = [\"출퇴근길\", \"휴식\", \"공부\", \"게임\", \"유튜브 시청\", \"애완동물 돌보기\"]"
   ]
  },
  {
   "cell_type": "code",
   "execution_count": 4,
   "metadata": {},
   "outputs": [],
   "source": [
    "class User(BaseModel):\n",
    "    name: str\n",
    "    location: str\n",
    "    birthdate: datetime\n",
    "    occupation: str\n",
    "    personality: list[str]\n",
    "    scenes: list[Scene] = []\n",
    "    prompt: str\n",
    "    positives: list[str]\n",
    "    negatives: list[str]\n",
    "    \n",
    "user_context = {\n",
    "    'name': '윤형석',\n",
    "    'location': '서울',\n",
    "    'birthdate': datetime.strptime('1990-03-28', '%Y-%m-%d'),\n",
    "    'occupation': '예비창업자',\n",
    "    'personality': ['Introverted', 'Intuitive', 'Thinking', 'Perceiving'],\n",
    "    'prompt': 'Your prompt here',\n",
    "    'positives': ['지적 호기심', '창의력', '직관성'],\n",
    "    'negatives': ['계획성 부족', '조직력 부족', '무기력함']\n",
    "}\n",
    "\n",
    "user = User(**user_context)\n",
    "\n",
    "user_bio = user.model_dump_json()"
   ]
  },
  {
   "cell_type": "code",
   "execution_count": 5,
   "metadata": {},
   "outputs": [
    {
     "name": "stdout",
     "output_type": "stream",
     "text": [
      "{\"name\":\"출퇴근길\",\"location_tags\":[\"서울\",\"대중교통\",\"도로\"],\"time_tags\":[\"주중\",\"오전\",\"오후\"],\"other_tags\":[\"교통\",\"스트레스\",\"생산성 저하\"]}\n",
      "{\"name\":\"휴식\",\"location_tags\":[\"집\",\"거실\"],\"time_tags\":[\"주말\",\"오후\",\"저녁\"],\"other_tags\":[\"재충전\",\"편안함\",\"여유\"]}\n",
      "{\"name\":\"공부\",\"location_tags\":[\"도서관\",\"집\"],\"time_tags\":[\"주중\",\"오전\",\"오후\"],\"other_tags\":[\"자기계발\",\"집중\",\"목표 설정\"]}\n",
      "{\"name\":\"게임\",\"location_tags\":[\"집\",\"게임방\"],\"time_tags\":[\"주말\",\"저녁\",\"심야\"],\"other_tags\":[\"오락\",\"스트레스 해소\",\"사회적 상호작용\"]}\n",
      "{\"name\":\"유튜브 시청\",\"location_tags\":[\"집\",\"거실\"],\"time_tags\":[\"주중\",\"저녁\",\"휴일\"],\"other_tags\":[\"정보습득\",\"오락\",\"취미\"]}\n",
      "{\"name\":\"애완동물 돌보기\",\"location_tags\":[\"집\",\"정원\"],\"time_tags\":[\"주중\",\"오전\",\"오후\"],\"other_tags\":[\"책임감\",\"정서적 안정\",\"사랑\"]}\n"
     ]
    }
   ],
   "source": [
    "import json\n",
    "\n",
    "pydantic_parser = PydanticOutputParser(pydantic_object=Scenes)\n",
    "scene_parser = ChatOpenAI(model_name=\"gpt-4o-mini\", temperature=0.5)\n",
    "scene_prompt = ChatPromptTemplate.from_template(\"\"\"\n",
    "다음은 사용자의 하루를 구성하는 장면들입니다.\n",
    "사용자의 정보와 이 장면들을 바탕으로, 각각의 장면에 어울리는 시간, 공간, 기타 태그를 3~5개씩 필요에 따라 작성하고, 아래 지침에 따라 json 포맷으로 반환하세요.\n",
    "\n",
    "태그를 붙이는 목적은 할 일을 관리하기 위한 데이터베이스에 사용하기 위해서입니다.\n",
    "각각의 할 일은 사용자의 하루를 나타내는 여러 장면을 담은 태그와 함께 저장되고, 사용자가 처한 맥락과 상황을 표현하는 태그에 맞춰 할 일을 추천합니다.\n",
    "\n",
    "시간 태그에는 휴일 여부, 요일, 하루 중의 시간대 등의 정보를 포함하세요.\n",
    "공간 태그에는 사용자의 위치, 활동하는 장소 등의 정보를 포함하세요.\n",
    "기타 태그에는 시간과 공간 태그에 포함되지 않지만 할 일의 맥락과 상황을 검색하기에 좋은 정보를 포함하세요.\n",
    "\n",
    "사용자 정보: {bio}\n",
    "장면: {scenes}\n",
    "지침: {format_instruction}\n",
    "\"\"\").partial(format_instruction=pydantic_parser.get_format_instructions())\n",
    "\n",
    "scenes_chain = scene_prompt | scene_parser | pydantic_parser\n",
    "response = scenes_chain.invoke({\"bio\": user_bio, \"scenes\": scenes_list})\n",
    "\n",
    "for scene in response.scenes:\n",
    "    user.scenes.append(scene)\n",
    "    print(scene.model_dump_json())"
   ]
  },
  {
   "cell_type": "code",
   "execution_count": 6,
   "metadata": {},
   "outputs": [
    {
     "data": {
      "text/plain": [
       "(['도서관', '게임방', '도로', '집', '대중교통', '서울', '거실', '정원'],\n",
       " ['저녁', '주중', '주말', '오후', '휴일', '오전', '심야'],\n",
       " ['교통',\n",
       "  '스트레스 해소',\n",
       "  '오락',\n",
       "  '생산성 저하',\n",
       "  '정보습득',\n",
       "  '정서적 안정',\n",
       "  '자기계발',\n",
       "  '스트레스',\n",
       "  '사랑',\n",
       "  '편안함',\n",
       "  '사회적 상호작용',\n",
       "  '목표 설정',\n",
       "  '집중',\n",
       "  '취미',\n",
       "  '여유',\n",
       "  '재충전',\n",
       "  '책임감'])"
      ]
     },
     "execution_count": 6,
     "metadata": {},
     "output_type": "execute_result"
    }
   ],
   "source": [
    "def collect_tags(user):\n",
    "    location_tags = []\n",
    "    time_tags = []\n",
    "    other_tags = []\n",
    "\n",
    "    for scene in user.scenes:\n",
    "        location_tags += scene.location_tags\n",
    "        time_tags += scene.time_tags\n",
    "        other_tags += scene.other_tags\n",
    "\n",
    "    location_tags = list(set(location_tags))\n",
    "    time_tags = list(set(time_tags))\n",
    "    other_tags = list(set(other_tags))\n",
    "\n",
    "    return location_tags, time_tags, other_tags\n",
    "\n",
    "collect_tags(user)"
   ]
  },
  {
   "cell_type": "code",
   "execution_count": 7,
   "metadata": {},
   "outputs": [],
   "source": [
    "from langchain.docstore.document import Document\n",
    "\n",
    "def store_tags(tag_list, tag_category):\n",
    "    documents = []\n",
    "    \n",
    "    for i, tag in enumerate(tag_list):\n",
    "        document = Document(page_content=tag, metadata={'source': f'{tag_category}_{i+1}'})\n",
    "        documents.append(document)\n",
    "\n",
    "    vectorstore = Chroma.from_documents(\n",
    "        documents = documents,\n",
    "        embedding = OpenAIEmbeddings(model = 'text-embedding-3-large'),\n",
    "        collection_name = f'{tag_category}_tags',\n",
    "        persist_directory = 'data'\n",
    "    )\n",
    "    \n",
    "    return vectorstore\n",
    "\n",
    "location_tag_vectors = store_tags(collect_tags(user)[0], 'location')\n",
    "time_tag_vectors = store_tags(collect_tags(user)[1], 'time')\n",
    "other_tag_vectors = store_tags(collect_tags(user)[2], 'other')"
   ]
  },
  {
   "cell_type": "code",
   "execution_count": 8,
   "metadata": {},
   "outputs": [
    {
     "name": "stdout",
     "output_type": "stream",
     "text": [
      "벡터 저장소에 저장된 태그의 수: 52\n",
      "검색 결과의 길이: 4\n",
      "가장 유사한 결과: 일상 (벡터 거리: 1.2783)\n",
      "\n",
      "결과 1: 일상\n",
      "벡터 거리: 1.2783\n",
      "\n",
      "결과 2: 정보습득\n",
      "벡터 거리: 1.2792\n",
      "\n",
      "결과 3: 여유\n",
      "벡터 거리: 1.3394\n",
      "\n",
      "결과 4: 여유\n",
      "벡터 거리: 1.3394\n",
      "\n"
     ]
    }
   ],
   "source": [
    "def print_answer_to_query(query, vectorstore, show_all = False):\n",
    "    try:\n",
    "        if vectorstore._collection.count() == 0:\n",
    "            print(\"벡터 저장소가 비어 있습니다.\")\n",
    "            return\n",
    "            \n",
    "        print(f'벡터 저장소에 저장된 태그의 수: {vectorstore._collection.count()}')\n",
    "        results = vectorstore.similarity_search_with_score(query)\n",
    "        \n",
    "        if results:\n",
    "            print(f\"검색 결과의 길이: {len(results)}\")\n",
    "            print(f\"가장 유사한 결과: {results[0][0].page_content} (벡터 거리: {results[0][1]:.4f})\\n\")\n",
    "\n",
    "            if show_all:\n",
    "                for i, (doc, score) in enumerate(results):\n",
    "                    print(f\"결과 {i + 1}: {doc.page_content}\")\n",
    "                    print(f\"벡터 거리: {score:.4f}\\n\")\n",
    "        else:\n",
    "            print(\"검색 결과가 없습니다.\")\n",
    "            \n",
    "    except Exception as e:\n",
    "        print(f\"오류 발생: {e}\")\n",
    "\n",
    "print_answer_to_query(\"회사에서 잔업하기\", other_tag_vectors, show_all=True)"
   ]
  },
  {
   "cell_type": "code",
   "execution_count": 9,
   "metadata": {},
   "outputs": [
    {
     "data": {
      "text/plain": [
       "{'name': '애완동물 돌보기',\n",
       " 'location_tags': ['집', '정원'],\n",
       " 'time_tags': ['주중', '오전', '오후'],\n",
       " 'other_tags': ['책임감', '정서적 안정', '사랑']}"
      ]
     },
     "execution_count": 9,
     "metadata": {},
     "output_type": "execute_result"
    }
   ],
   "source": [
    "import json\n",
    "\n",
    "user_bio = user.model_dump_json()\n",
    "user_dict = json.loads(user_bio)\n",
    "user_dict['scenes'][5]"
   ]
  },
  {
   "cell_type": "code",
   "execution_count": 10,
   "metadata": {},
   "outputs": [],
   "source": [
    "# LLM 초기화\n",
    "llm = ChatOpenAI(model_name=\"gpt-4o-mini\", temperature=0, max_tokens=None)"
   ]
  },
  {
   "cell_type": "code",
   "execution_count": 11,
   "metadata": {},
   "outputs": [],
   "source": [
    "from langchain.schema import BaseOutputParser\n",
    "\n",
    "class CustomListOutputParser(BaseOutputParser):\n",
    "    def parse(self, text: str) -> list[str]:\n",
    "        responses = text.split(\"---\")\n",
    "        items = [response.strip() for response in responses]\n",
    "        return items\n",
    "\n",
    "    def get_format_instructions(self) -> str:\n",
    "        return '서로 다른 답변은 \"---\"로 구분하세요.'\n",
    "\n",
    "# 파서 초기화\n",
    "response_parser = CustomListOutputParser()"
   ]
  },
  {
   "cell_type": "code",
   "execution_count": 12,
   "metadata": {},
   "outputs": [],
   "source": [
    "prompt_template = ChatPromptTemplate.from_template(\"\"\"\n",
    "다음은 사용자 정보입니다. 이 정보를 바탕으로, 사용자의 성격과 하루 일과, 주요 관심사를를 상상해서 1문단으로 작성하세요.\n",
    "이를 작성하는 이유는 사용자의 할 일을 사용자의 생활패턴과 맥락에 맞게 구체화하여 추천하기 위해서입니다.\n",
    "사용자에 대한 이해가 깊어질수록 사용자에게 더 유용한 할 일을 추천할 수 있습니다.\n",
    "사용자의 긍정적인 면과 부정적인 면을 모두 포함할 수 있도록 작성하세요.\n",
    "\n",
    "작성된 내용 중 사용자가 적합한 것을 선택할 수 있도록, 서로 다른 내용의 답변을 3~5개 생성하세요.\n",
    "각각의 답변은 사용자 정보의 다른 부분에 집중하며, 서로 비슷하지 않은 내용이어야 합니다.\n",
    "예를 들어 한 답변이 \"대중교통\"이라는 키워드에 집중한다면, 다른 답변은 \"도서관\" 등 다른 맥락에 집중할 수 있습니다.\n",
    "만약 비슷한 답변이 생성된다면 생략하세요.\n",
    "\n",
    "{format_instruction}\n",
    "\n",
    "사용자 정보: {bio}\n",
    "\n",
    "답변:\n",
    "\"\"\").partial(format_instruction=response_parser.get_format_instructions())\n",
    "\n",
    "chain = prompt_template | llm | response_parser\n",
    "responses = chain.invoke({\"bio\": user_bio})"
   ]
  },
  {
   "cell_type": "code",
   "execution_count": 13,
   "metadata": {},
   "outputs": [
    {
     "name": "stdout",
     "output_type": "stream",
     "text": [
      "윤형석은 서울에 거주하는 예비창업자로, 내향적이고 직관적인 성격을 지니고 있습니다. 그는 지적 호기심이 강해 새로운 아이디어를 탐구하는 것을 즐기지만, 때때로 계획성과 조직력이 부족해 목표 달성에 어려움을 겪기도 합니다. 주중에는 대중교통을 이용해 출퇴근하며, 이 과정에서 스트레스를 느끼기도 하지만, 그 시간을 활용해 자기계발을 위한 공부를 하기도 합니다. 주말에는 집에서 편안하게 휴식을 취하며, 게임을 통해 스트레스를 해소하고 사회적 상호작용을 즐깁니다. 또한, 애완동물을 돌보는 일에서 책임감을 느끼며 정서적 안정을 찾기도 합니다.\n",
      "---\n",
      "윤형석은 서울에서 예비창업자로 활동하며, 내향적이고 직관적인 성격을 가지고 있습니다. 그는 주중에 대중교통을 이용해 출퇴근하는데, 이때 교통 체증으로 인해 스트레스를 받는 경우가 많습니다. 하지만 그는 이 시간을 활용해 오디오북이나 팟캐스트를 듣고, 새로운 아이디어를 구상하는 데 집중하기도 합니다. 이러한 지적 호기심은 그가 창의적인 해결책을 찾는 데 큰 도움이 됩니다.\n",
      "---\n",
      "윤형석은 서울에 거주하는 예비창업자로, 내향적이고 직관적인 성격을 지니고 있습니다. 그는 주말 저녁에 집에서 게임을 즐기며 스트레스를 해소하고, 친구들과의 사회적 상호작용을 통해 에너지를 충전합니다. 그러나 때때로 무기력함을 느끼기도 하여, 이러한 시간을 통해 자신을 재충전하는 것이 중요하다고 생각합니다. 게임 외에도 유튜브 시청을 통해 다양한 정보를 습득하며, 취미 생활을 즐깁니다.\n",
      "---\n",
      "윤형석은 서울에서 예비창업자로 활동하며, 내향적이고 직관적인 성격을 가지고 있습니다. 그는 주중 오전과 오후에 도서관이나 집에서 공부하며 자기계발에 힘쓰고, 목표를 설정하는 데 집중합니다. 그러나 계획성과 조직력이 부족해 가끔은 목표 달성에 어려움을 겪기도 합니다. 주말에는 집에서 애완동물을 돌보며 책임감을 느끼고, 이로 인해 정서적 안정감을 찾는 것을 중요하게 생각합니다.\n",
      "---\n",
      "윤형석은 서울에 거주하는 예비창업자로, 내향적이고 직관적인 성격을 지니고 있습니다. 그는 주말 오후에 집에서 편안하게 휴식을 취하며, 여유로운 시간을 보내는 것을 좋아합니다. 이때 그는 독서를 하거나 유튜브를 시청하며 새로운 정보를 습득하는 것을 즐깁니다. 그러나 때때로 무기력함을 느끼기도 하여, 이러한 여유로운 시간이 그에게 큰 도움이 됩니다.\n",
      "---\n"
     ]
    }
   ],
   "source": [
    "for response in responses:\n",
    "    print(response)\n",
    "    print(\"---\")"
   ]
  },
  {
   "cell_type": "code",
   "execution_count": 14,
   "metadata": {},
   "outputs": [
    {
     "data": {
      "text/plain": [
       "'윤형석은 서울에서 예비창업자로 활동하며, 내향적이고 직관적인 성격을 가지고 있습니다. 그는 주중 오전과 오후에 도서관이나 집에서 공부하며 자기계발에 힘쓰고, 목표를 설정하는 데 집중합니다. 그러나 계획성과 조직력이 부족해 가끔은 목표 달성에 어려움을 겪기도 합니다. 주말에는 집에서 애완동물을 돌보며 책임감을 느끼고, 이로 인해 정서적 안정감을 찾는 것을 중요하게 생각합니다.'"
      ]
     },
     "execution_count": 14,
     "metadata": {},
     "output_type": "execute_result"
    }
   ],
   "source": [
    "def set_prompt(user: User, responses: list[str], index: int):\n",
    "    if index < 0 or index >= len(responses):\n",
    "        raise IndexError(\"Index out of bounds.\")\n",
    "    user.prompt = responses[index].strip()\n",
    "\n",
    "set_prompt(user, responses, 3)\n",
    "user.prompt"
   ]
  },
  {
   "cell_type": "code",
   "execution_count": 36,
   "metadata": {},
   "outputs": [],
   "source": [
    "class Subtask(BaseModel):\n",
    "    # basic information of the subtask\n",
    "    name: str\n",
    "    index: Optional[int]\n",
    "    context: Optional[str]\n",
    "    \n",
    "    # tags for the subtask\n",
    "    location_tags: list[str]\n",
    "    time_tags: list[str]\n",
    "    other_tags: list[str]\n",
    "    estimated_minutes: int\n",
    "    \n",
    "    # subtasks of the subtask\n",
    "    has_subtasks: bool = False\n",
    "    subtasks: Optional[list['Subtask']]\n",
    "    \n",
    "    # add a subtask of this subtask\n",
    "    def add_subtask(self, subtask: 'Subtask'):\n",
    "        if not self.has_subtasks:\n",
    "            self.subtasks = []\n",
    "            self.has_subtasks = True\n",
    "        self.subtasks.append(subtask)\n",
    "    \n",
    "    # set the index of the subtasks\n",
    "    def set_subtasks_index(self):\n",
    "        for i, subtask in enumerate(self.subtasks):\n",
    "            subtask.index = (i + 1)\n",
    "    \n",
    "    # print the subtask with all its subtasks\n",
    "    def print_self(self):\n",
    "        print(f\"Subtask_{self.index}: {self.name}\")\n",
    "        print(f\"- Context: {self.context}\")\n",
    "        print(f\"- Location Tags: {self.location_tags}\")\n",
    "        print(f\"- Time Tags: {self.time_tags}\")\n",
    "        print(f\"- Other Tags: {self.other_tags}\")\n",
    "        print(f\"- Estimated Minutes: {self.estimated_minutes}\")\n",
    "        print()\n",
    "        \n",
    "        if self.has_subtasks:\n",
    "            print(\"Subtasks:\")\n",
    "            for subtask in self.subtasks:\n",
    "                subtask.print_self()\n",
    "    \n",
    "    # get a subtask of this subtask\n",
    "    def get_subtask(self, index: int):\n",
    "        if index < 0 or index >= len(self.subtasks):\n",
    "            raise IndexError(\"Index out of bounds.\")\n",
    "        return self.subtasks[index]\n",
    "    \n",
    "    # get all subtasks of this subtask\n",
    "    def get_all_subtasks(self):\n",
    "        subtasks = []\n",
    "        \n",
    "        if self.has_subtasks:\n",
    "            subtasks = self.subtasks.copy()    \n",
    "            for subtask in self.subtasks:\n",
    "                subtasks += subtask.get_all_subtasks()\n",
    "            \n",
    "        return subtasks\n",
    "    \n",
    "    # set the total minutes of the subtask based on its subtasks if it has any\n",
    "    def set_total_estimated_minutes(self):\n",
    "        if self.has_subtasks:\n",
    "            self.estimated_minutes = sum([subtask.estimated_minutes for subtask in self.subtasks])\n",
    "            \n",
    "            for subtask in self.subtasks:\n",
    "                subtask.set_total_estimated_minutes()\n",
    "\n",
    "    # update a subtask of this subtask            \n",
    "    def update_subtask(self, index: int, subtask: 'Subtask'):\n",
    "        if index < 0 or index >= len(self.subtasks):\n",
    "            raise IndexError(\"Index out of bounds.\")\n",
    "        self.subtasks[index] = subtask\n",
    "    \n",
    "    # remove a subtask of this subtask\n",
    "    def remove_subtask(self, index: int):\n",
    "        if index < 0 or index >= len(self.subtasks):\n",
    "            raise IndexError(\"Index out of bounds.\")\n",
    "        del self.subtasks[index]\n",
    "        self.set_subtasks_index()\n",
    "    \n",
    "    # clear all subtasks of this subtask recursively\n",
    "    def clear_subtasks(self):\n",
    "        for subtask in self.subtasks:\n",
    "            subtask.clear_subtasks()\n",
    "        \n",
    "        self.subtasks.clear()\n",
    "        self.has_subtasks = False\n",
    "\n",
    "    # count the number of subtasks of this subtask\n",
    "    def count_subtasks(self):\n",
    "        return len(self.subtasks) if self.has_subtasks else 0\n",
    "\n",
    "Subtask.model_rebuild()\n",
    "\n",
    "subtask_pydantic_parser = PydanticOutputParser(pydantic_object=Subtask)"
   ]
  },
  {
   "cell_type": "code",
   "execution_count": 47,
   "metadata": {},
   "outputs": [],
   "source": [
    "class Task(BaseModel):\n",
    "    name: str\n",
    "    context: str\n",
    "\n",
    "    location_tags: list[str]\n",
    "    time_tags: list[str]\n",
    "    other_tags: list[str]\n",
    "    estimated_minutes: int\n",
    "    \n",
    "    subtasks: list[Subtask]\n",
    "    \n",
    "    def add_subtask(self, subtask: Subtask):\n",
    "        self.subtasks.append(subtask)\n",
    "        \n",
    "    def set_subtask_index(self):\n",
    "        for i, subtask in enumerate(self.subtasks):\n",
    "            subtask.index = (i + 1)\n",
    "        \n",
    "    def get_subtask(self, index: int):\n",
    "        if index < 0 or index >= len(self.subtasks):\n",
    "            raise IndexError(\"Index out of bounds.\")\n",
    "        return self.subtasks[index]\n",
    "    \n",
    "    def print_self(self):\n",
    "        print(f\"Task: {self.name}\")\n",
    "        print(f\"- Context: {self.context}\")\n",
    "        print(f\"- Location Tags: {self.location_tags}\")\n",
    "        print(f\"- Time Tags: {self.time_tags}\")\n",
    "        print(f\"- Other Tags: {self.other_tags}\")\n",
    "        print(f\"- Estimated Minutes: {self.estimated_minutes}\")\n",
    "        print()\n",
    "        \n",
    "        print(\"Subtasks:\")\n",
    "        for subtask in self.subtasks:\n",
    "            subtask.print_self()\n",
    "    \n",
    "    def get_total_minutes(self):\n",
    "        for subtask in self.subtasks:\n",
    "            subtask.set_total_estimated_minutes()\n",
    "        \n",
    "        self.estimated_minutes = sum([subtask.estimated_minutes for subtask in self.subtasks])\n",
    "    \n",
    "    def update_subtask(self, index: int, subtask: Subtask):\n",
    "        if index < 0 or index >= len(self.subtasks):\n",
    "            raise IndexError(\"Index out of bounds.\")\n",
    "        self.subtasks[index] = subtask\n",
    "\n",
    "    def remove_subtask(self, index: int):\n",
    "        if index < 0 or index >= len(self.subtasks):\n",
    "            raise IndexError(\"Index out of bounds.\")\n",
    "        del self.subtasks[index]\n",
    "\n",
    "    def clear_subtasks(self):\n",
    "        self.subtasks.clear()\n",
    "\n",
    "tasks_pydantic_parser = PydanticOutputParser(pydantic_object=Task)"
   ]
  },
  {
   "cell_type": "code",
   "execution_count": 17,
   "metadata": {},
   "outputs": [
    {
     "name": "stdout",
     "output_type": "stream",
     "text": [
      "The output should be formatted as a JSON instance that conforms to the JSON schema below.\n",
      "\n",
      "As an example, for the schema {\"properties\": {\"foo\": {\"title\": \"Foo\", \"description\": \"a list of strings\", \"type\": \"array\", \"items\": {\"type\": \"string\"}}}, \"required\": [\"foo\"]}\n",
      "the object {\"foo\": [\"bar\", \"baz\"]} is a well-formatted instance of the schema. The object {\"properties\": {\"foo\": [\"bar\", \"baz\"]}} is not well-formatted.\n",
      "\n",
      "Here is the output schema:\n",
      "```\n",
      "{\"$defs\": {\"Subtask\": {\"properties\": {\"name\": {\"title\": \"Name\", \"type\": \"string\"}, \"index\": {\"anyOf\": [{\"type\": \"integer\"}, {\"type\": \"null\"}], \"title\": \"Index\"}, \"context\": {\"anyOf\": [{\"type\": \"string\"}, {\"type\": \"null\"}], \"title\": \"Context\"}, \"location_tags\": {\"items\": {\"type\": \"string\"}, \"title\": \"Location Tags\", \"type\": \"array\"}, \"time_tags\": {\"items\": {\"type\": \"string\"}, \"title\": \"Time Tags\", \"type\": \"array\"}, \"other_tags\": {\"items\": {\"type\": \"string\"}, \"title\": \"Other Tags\", \"type\": \"array\"}, \"estimated_minutes\": {\"title\": \"Estimated Minutes\", \"type\": \"integer\"}, \"has_subtasks\": {\"default\": false, \"title\": \"Has Subtasks\", \"type\": \"boolean\"}, \"subtasks\": {\"anyOf\": [{\"items\": {\"$ref\": \"#/$defs/Subtask\"}, \"type\": \"array\"}, {\"type\": \"null\"}], \"title\": \"Subtasks\"}}, \"required\": [\"name\", \"index\", \"context\", \"location_tags\", \"time_tags\", \"other_tags\", \"estimated_minutes\", \"subtasks\"], \"title\": \"Subtask\", \"type\": \"object\"}}, \"properties\": {\"name\": {\"title\": \"Name\", \"type\": \"string\"}, \"context\": {\"title\": \"Context\", \"type\": \"string\"}, \"location_tags\": {\"items\": {\"type\": \"string\"}, \"title\": \"Location Tags\", \"type\": \"array\"}, \"time_tags\": {\"items\": {\"type\": \"string\"}, \"title\": \"Time Tags\", \"type\": \"array\"}, \"other_tags\": {\"items\": {\"type\": \"string\"}, \"title\": \"Other Tags\", \"type\": \"array\"}, \"estimated_minutes\": {\"title\": \"Estimated Minutes\", \"type\": \"integer\"}, \"subtasks\": {\"items\": {\"$ref\": \"#/$defs/Subtask\"}, \"title\": \"Subtasks\", \"type\": \"array\"}}, \"required\": [\"name\", \"context\", \"location_tags\", \"time_tags\", \"other_tags\", \"estimated_minutes\", \"subtasks\"]}\n",
      "```\n"
     ]
    }
   ],
   "source": [
    "print(tasks_pydantic_parser.get_format_instructions())"
   ]
  },
  {
   "cell_type": "code",
   "execution_count": 48,
   "metadata": {},
   "outputs": [],
   "source": [
    "task_breakdown = ChatPromptTemplate.from_template(\"\"\"\n",
    "다음은 사용자가 입력한 헤야 할 일입니다. 이 할 일을 세부적으로 나누어 작성하세요.\n",
    "각각의 할 일은 최대한 구체적인 행동으로 작성하고, 이를 수행하는 데 필요한 시간과 노력을 고려하여 작성하세요.\n",
    "할 일을 세부적으로 나누면 사용자가 할 일을 더 쉽게 완료할 수 있습니다.\n",
    "\n",
    "각각의 할 일은 사용자의 하루를 나타내는 여러 장면을 담은 태그와 함께 저장되고, 사용자가 처한 맥락과 상황을 표현하는 태그에 맞춰 할 일을 추천합니다.\n",
    "각각의 할 일은 사용자의 위치, 활동하는 장소, 시간대 등을 고려하여 태그를 부여하세요.\n",
    "\n",
    "Task의 context에서는 사용자 정보와 하루 일과에 기반하여 해당 할 일을 언제 하는 것이 좋을지 설명하세요.\n",
    "각각의 Subtask에 적절한 태그를 부여하세요.\n",
    "\n",
    "{format_instruction}\n",
    "\n",
    "사용자의 인적 정보: {bio}\n",
    "사용자의 하루 일과: {prompt}\n",
    "사용자가 입력한 할 일: {task}\n",
    "\"\"\").partial(format_instruction=tasks_pydantic_parser.get_format_instructions())\n",
    "\n",
    "task_chain = task_breakdown | llm | tasks_pydantic_parser\n",
    "task_response = task_chain.invoke({\"bio\": user_bio, \"prompt\": user.prompt, \"task\": \"회사에서 잔업하기\"})"
   ]
  },
  {
   "cell_type": "code",
   "execution_count": 49,
   "metadata": {},
   "outputs": [
    {
     "name": "stdout",
     "output_type": "stream",
     "text": [
      "Task: 회사에서 잔업하기\n",
      "- Context: 윤형석은 예비창업자로서 주중에 회사에서 잔업을 하며 업무를 마무리하고 있습니다. 잔업은 주로 오후에 이루어지며, 집중력이 필요한 작업이 많습니다.\n",
      "- Location Tags: ['서울', '회사', '사무실']\n",
      "- Time Tags: ['주중', '오후', '저녁']\n",
      "- Other Tags: ['업무', '스트레스', '생산성']\n",
      "- Estimated Minutes: 90\n",
      "\n",
      "Subtasks:\n",
      "Subtask_1: 업무 목록 정리하기\n",
      "- Context: 잔업을 시작하기 전에 해야 할 업무를 정리하여 우선순위를 매깁니다.\n",
      "- Location Tags: ['서울', '회사', '사무실']\n",
      "- Time Tags: ['주중', '오후']\n",
      "- Other Tags: ['업무', '계획']\n",
      "- Estimated Minutes: 15\n",
      "\n",
      "Subtask_2: 중요한 이메일 확인 및 회신하기\n",
      "- Context: 잔업 중에 중요한 이메일을 확인하고 필요한 경우 회신합니다.\n",
      "- Location Tags: ['서울', '회사', '사무실']\n",
      "- Time Tags: ['주중', '오후']\n",
      "- Other Tags: ['업무', '소통']\n",
      "- Estimated Minutes: 20\n",
      "\n",
      "Subtask_3: 프로젝트 진행 상황 점검하기\n",
      "- Context: 현재 진행 중인 프로젝트의 상태를 점검하고 필요한 조치를 취합니다.\n",
      "- Location Tags: ['서울', '회사', '사무실']\n",
      "- Time Tags: ['주중', '오후']\n",
      "- Other Tags: ['업무', '진행상황']\n",
      "- Estimated Minutes: 30\n",
      "\n",
      "Subtask_4: 내일 할 일 계획하기\n",
      "- Context: 잔업이 끝나기 전에 내일의 업무를 계획하여 준비합니다.\n",
      "- Location Tags: ['서울', '회사', '사무실']\n",
      "- Time Tags: ['주중', '저녁']\n",
      "- Other Tags: ['계획', '업무']\n",
      "- Estimated Minutes: 15\n",
      "\n",
      "Subtask_5: 사무실 정리 및 퇴근 준비하기\n",
      "- Context: 잔업이 끝난 후 사무실을 정리하고 퇴근 준비를 합니다.\n",
      "- Location Tags: ['서울', '회사', '사무실']\n",
      "- Time Tags: ['주중', '저녁']\n",
      "- Other Tags: ['정리', '퇴근']\n",
      "- Estimated Minutes: 10\n",
      "\n"
     ]
    }
   ],
   "source": [
    "Task = task_response\n",
    "Task.set_subtask_index()\n",
    "Task.get_total_minutes()\n",
    "Task.print_self()"
   ]
  },
  {
   "cell_type": "code",
   "execution_count": 50,
   "metadata": {},
   "outputs": [],
   "source": [
    "subtask_breakdown = ChatPromptTemplate.from_template(\"\"\"\n",
    "다음은 사용자가 입력한 헤야 할 일입니다. 이 할 일을 세부적으로 나누어 작성하세요.\n",
    "각각의 할 일은 최대한 구체적인 행동으로 작성하고, 이를 수행하는 데 필요한 시간과 노력을 고려하여 작성하세요.\n",
    "할 일을 세부적으로 나누면 사용자가 할 일을 더 쉽게 완료할 수 있습니다.\n",
    "\n",
    "각각의 할 일은 사용자의 하루를 나타내는 여러 장면을 담은 태그와 함께 저장되고, 사용자가 처한 맥락과 상황을 표현하는 태그에 맞춰 할 일을 추천합니다.\n",
    "각각의 할 일은 사용자의 위치, 활동하는 장소, 시간대 등을 고려하여 태그를 부여하세요.\n",
    "\n",
    "Task의 context에서는 사용자 정보와 하루 일과에 기반하여 해당 할 일을 언제 하는 것이 좋을지 설명하세요.\n",
    "각각의 Subtask에 적절한 태그를 부여하세요.\n",
    "\n",
    "{format_instruction}\n",
    "\n",
    "사용자의 인적 정보: {bio}\n",
    "사용자의 하루 일과: {prompt}\n",
    "사용자가 입력한 할 일: {task}\n",
    "\"\"\").partial(format_instruction=subtask_pydantic_parser.get_format_instructions())\n",
    "\n",
    "subtask_chain = subtask_breakdown | llm | subtask_pydantic_parser\n",
    "subtask_response = subtask_chain.invoke({\"bio\": user_bio, \"prompt\": user.prompt, \"task\": Task.get_subtask(0)})"
   ]
  },
  {
   "cell_type": "code",
   "execution_count": 51,
   "metadata": {},
   "outputs": [
    {
     "name": "stdout",
     "output_type": "stream",
     "text": [
      "Subtask_1: 업무 목록 정리하기\n",
      "- Context: 잔업을 시작하기 전에 해야 할 업무를 정리하여 우선순위를 매깁니다.\n",
      "- Location Tags: ['서울', '회사', '사무실']\n",
      "- Time Tags: ['주중', '오후']\n",
      "- Other Tags: ['업무', '계획']\n",
      "- Estimated Minutes: 15\n",
      "\n",
      "Subtasks:\n",
      "Subtask_1: 현재 진행 중인 업무 목록 작성하기\n",
      "- Context: 현재 진행 중인 업무를 모두 나열하여 확인합니다.\n",
      "- Location Tags: ['서울', '회사', '사무실']\n",
      "- Time Tags: ['주중', '오후']\n",
      "- Other Tags: ['업무', '정리']\n",
      "- Estimated Minutes: 5\n",
      "\n",
      "Subtask_2: 업무 우선순위 매기기\n",
      "- Context: 작성한 업무 목록을 바탕으로 우선순위를 매깁니다.\n",
      "- Location Tags: ['서울', '회사', '사무실']\n",
      "- Time Tags: ['주중', '오후']\n",
      "- Other Tags: ['업무', '계획']\n",
      "- Estimated Minutes: 5\n",
      "\n",
      "Subtask_3: 마감일 확인하기\n",
      "- Context: 각 업무의 마감일을 확인하여 우선순위에 반영합니다.\n",
      "- Location Tags: ['서울', '회사', '사무실']\n",
      "- Time Tags: ['주중', '오후']\n",
      "- Other Tags: ['업무', '계획']\n",
      "- Estimated Minutes: 5\n",
      "\n"
     ]
    }
   ],
   "source": [
    "subtask_response.print_self()"
   ]
  },
  {
   "cell_type": "code",
   "execution_count": 52,
   "metadata": {},
   "outputs": [
    {
     "data": {
      "text/plain": [
       "15"
      ]
     },
     "execution_count": 52,
     "metadata": {},
     "output_type": "execute_result"
    }
   ],
   "source": [
    "subtask_response.set_total_estimated_minutes()\n",
    "subtask_response.estimated_minutes"
   ]
  },
  {
   "cell_type": "code",
   "execution_count": 54,
   "metadata": {},
   "outputs": [
    {
     "name": "stdout",
     "output_type": "stream",
     "text": [
      "Task: 회사에서 잔업하기\n",
      "- Context: 윤형석은 예비창업자로서 주중에 회사에서 잔업을 하며 업무를 마무리하고 있습니다. 잔업은 주로 오후에 이루어지며, 집중력이 필요한 작업이 많습니다.\n",
      "- Location Tags: ['서울', '회사', '사무실']\n",
      "- Time Tags: ['주중', '오후', '저녁']\n",
      "- Other Tags: ['업무', '스트레스', '생산성']\n",
      "- Estimated Minutes: 90\n",
      "\n",
      "Subtasks:\n",
      "Subtask_1: 업무 목록 정리하기\n",
      "- Context: 잔업을 시작하기 전에 해야 할 업무를 정리하여 우선순위를 매깁니다.\n",
      "- Location Tags: ['서울', '회사', '사무실']\n",
      "- Time Tags: ['주중', '오후']\n",
      "- Other Tags: ['업무', '계획']\n",
      "- Estimated Minutes: 15\n",
      "\n",
      "Subtasks:\n",
      "Subtask_1: 현재 진행 중인 업무 목록 작성하기\n",
      "- Context: 현재 진행 중인 업무를 모두 나열하여 확인합니다.\n",
      "- Location Tags: ['서울', '회사', '사무실']\n",
      "- Time Tags: ['주중', '오후']\n",
      "- Other Tags: ['업무', '정리']\n",
      "- Estimated Minutes: 5\n",
      "\n",
      "Subtask_2: 업무 우선순위 매기기\n",
      "- Context: 작성한 업무 목록을 바탕으로 우선순위를 매깁니다.\n",
      "- Location Tags: ['서울', '회사', '사무실']\n",
      "- Time Tags: ['주중', '오후']\n",
      "- Other Tags: ['업무', '계획']\n",
      "- Estimated Minutes: 5\n",
      "\n",
      "Subtask_3: 마감일 확인하기\n",
      "- Context: 각 업무의 마감일을 확인하여 우선순위에 반영합니다.\n",
      "- Location Tags: ['서울', '회사', '사무실']\n",
      "- Time Tags: ['주중', '오후']\n",
      "- Other Tags: ['업무', '계획']\n",
      "- Estimated Minutes: 5\n",
      "\n",
      "Subtask_2: 중요한 이메일 확인 및 회신하기\n",
      "- Context: 잔업 중에 중요한 이메일을 확인하고 필요한 경우 회신합니다.\n",
      "- Location Tags: ['서울', '회사', '사무실']\n",
      "- Time Tags: ['주중', '오후']\n",
      "- Other Tags: ['업무', '소통']\n",
      "- Estimated Minutes: 20\n",
      "\n",
      "Subtask_3: 프로젝트 진행 상황 점검하기\n",
      "- Context: 현재 진행 중인 프로젝트의 상태를 점검하고 필요한 조치를 취합니다.\n",
      "- Location Tags: ['서울', '회사', '사무실']\n",
      "- Time Tags: ['주중', '오후']\n",
      "- Other Tags: ['업무', '진행상황']\n",
      "- Estimated Minutes: 30\n",
      "\n",
      "Subtask_4: 내일 할 일 계획하기\n",
      "- Context: 잔업이 끝나기 전에 내일의 업무를 계획하여 준비합니다.\n",
      "- Location Tags: ['서울', '회사', '사무실']\n",
      "- Time Tags: ['주중', '저녁']\n",
      "- Other Tags: ['계획', '업무']\n",
      "- Estimated Minutes: 15\n",
      "\n",
      "Subtask_5: 사무실 정리 및 퇴근 준비하기\n",
      "- Context: 잔업이 끝난 후 사무실을 정리하고 퇴근 준비를 합니다.\n",
      "- Location Tags: ['서울', '회사', '사무실']\n",
      "- Time Tags: ['주중', '저녁']\n",
      "- Other Tags: ['정리', '퇴근']\n",
      "- Estimated Minutes: 10\n",
      "\n"
     ]
    }
   ],
   "source": [
    "Task.update_subtask(0, subtask_response)\n",
    "Task.get_total_minutes()\n",
    "Task.print_self()"
   ]
  }
 ],
 "metadata": {
  "kernelspec": {
   "display_name": "GGTDD",
   "language": "python",
   "name": "python3"
  },
  "language_info": {
   "codemirror_mode": {
    "name": "ipython",
    "version": 3
   },
   "file_extension": ".py",
   "mimetype": "text/x-python",
   "name": "python",
   "nbconvert_exporter": "python",
   "pygments_lexer": "ipython3",
   "version": "3.12.2"
  }
 },
 "nbformat": 4,
 "nbformat_minor": 2
}
