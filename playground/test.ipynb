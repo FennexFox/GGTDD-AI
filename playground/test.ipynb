{
 "cells": [
  {
   "cell_type": "code",
   "execution_count": 1,
   "metadata": {},
   "outputs": [
    {
     "data": {
      "text/plain": [
       "True"
      ]
     },
     "execution_count": 1,
     "metadata": {},
     "output_type": "execute_result"
    }
   ],
   "source": [
    "from dotenv import load_dotenv\n",
    "load_dotenv()"
   ]
  },
  {
   "cell_type": "code",
   "execution_count": 2,
   "metadata": {},
   "outputs": [],
   "source": [
    "from langchain_openai import ChatOpenAI\n",
    "from langchain_openai import OpenAIEmbeddings\n",
    "from langchain_chroma import Chroma\n",
    "from langchain_core.prompts import ChatPromptTemplate\n",
    "from langchain_core.output_parsers import PydanticOutputParser\n",
    "\n",
    "from pydantic import BaseModel\n",
    "from typing import Optional, Union, Any\n",
    "from datetime import datetime\n",
    "from pprint import pprint"
   ]
  },
  {
   "cell_type": "code",
   "execution_count": 3,
   "metadata": {},
   "outputs": [],
   "source": [
    "class Scene(BaseModel):\n",
    "    name: str\n",
    "    location_tags: list[str]\n",
    "    time_tags: list[str]\n",
    "    other_tags: list[str]\n",
    "\n",
    "class Scenes(BaseModel):\n",
    "    scenes: list[Scene]\n",
    "\n",
    "scenes_list = [\"출퇴근길\", \"근무\", \"휴식\", \"공부\", \"게임\", \"유튜브 시청\", \"애완동물 돌보기\"]"
   ]
  },
  {
   "cell_type": "code",
   "execution_count": 4,
   "metadata": {},
   "outputs": [],
   "source": [
    "class User(BaseModel):\n",
    "    name: str\n",
    "    location: str\n",
    "    birthdate: datetime\n",
    "    occupation: str\n",
    "    personality: list[str]\n",
    "    scenes: list[Scene] = []\n",
    "    prompt: str\n",
    "    positives: list[str]\n",
    "    negatives: list[str]\n",
    "    \n",
    "user_context = {\n",
    "    'name': '윤형석',\n",
    "    'location': '서울',\n",
    "    'birthdate': datetime.strptime('1990-03-28', '%Y-%m-%d'),\n",
    "    'occupation': '예비창업자',\n",
    "    'personality': ['Introverted', 'Intuitive', 'Thinking', 'Perceiving'],\n",
    "    'prompt': 'Your prompt here',\n",
    "    'positives': ['지적 호기심', '창의력', '직관성'],\n",
    "    'negatives': ['계획성 부족', '조직력 부족', '무기력함']\n",
    "}\n",
    "\n",
    "user = User(**user_context)\n",
    "\n",
    "user_bio = user.model_dump_json()"
   ]
  },
  {
   "cell_type": "code",
   "execution_count": 5,
   "metadata": {},
   "outputs": [
    {
     "name": "stdout",
     "output_type": "stream",
     "text": [
      "{\"name\":\"출퇴근길\",\"location_tags\":[\"서울\",\"지하철\",\"버스\",\"도로\"],\"time_tags\":[\"주중\",\"오전\",\"오후\",\"출근 시간\",\"퇴근 시간\"],\"other_tags\":[\"대중교통\",\"혼잡함\",\"소음\"]}\n",
      "{\"name\":\"근무\",\"location_tags\":[\"사무실\",\"서울\",\"작업 공간\"],\"time_tags\":[\"주중\",\"오전\",\"오후\",\"업무 시간\"],\"other_tags\":[\"팀워크\",\"프로젝트\",\"회의\"]}\n",
      "{\"name\":\"휴식\",\"location_tags\":[\"집\",\"서울\",\"카페\"],\"time_tags\":[\"주중\",\"오후\",\"저녁\",\"짧은 휴식\"],\"other_tags\":[\"자기 관리\",\"재충전\",\"편안함\"]}\n",
      "{\"name\":\"공부\",\"location_tags\":[\"집\",\"도서관\",\"카페\"],\"time_tags\":[\"주중\",\"오후\",\"저녁\",\"주말\"],\"other_tags\":[\"자기 개발\",\"지식 습득\",\"집중\"]}\n",
      "{\"name\":\"게임\",\"location_tags\":[\"집\",\"PC방\"],\"time_tags\":[\"주말\",\"오후\",\"저녁\",\"여가 시간\"],\"other_tags\":[\"오락\",\"스트레스 해소\",\"사회적 상호작용\"]}\n",
      "{\"name\":\"유튜브 시청\",\"location_tags\":[\"집\"],\"time_tags\":[\"주중\",\"저녁\",\"여가 시간\"],\"other_tags\":[\"취미\",\"정보 습득\",\"오락\"]}\n",
      "{\"name\":\"애완동물 돌보기\",\"location_tags\":[\"집\"],\"time_tags\":[\"주중\",\"오전\",\"오후\",\"저녁\"],\"other_tags\":[\"책임감\",\"애정\",\"스트레스 해소\"]}\n"
     ]
    }
   ],
   "source": [
    "import json\n",
    "\n",
    "pydantic_parser = PydanticOutputParser(pydantic_object=Scenes)\n",
    "scene_parser = ChatOpenAI(model_name=\"gpt-4o-mini\", temperature=0.5)\n",
    "scene_prompt = ChatPromptTemplate.from_template(\"\"\"\n",
    "다음은 사용자의 하루를 구성하는 장면들입니다.\n",
    "사용자의 정보와 이 장면들을 바탕으로, 각각의 장면에 어울리는 시간, 공간, 기타 태그를 3~5개씩 필요에 따라 작성하고, 아래 지침에 따라 json 포맷으로 반환하세요.\n",
    "\n",
    "태그를 붙이는 목적은 할 일을 관리하기 위한 데이터베이스에 사용하기 위해서입니다.\n",
    "각각의 할 일은 사용자의 하루를 나타내는 여러 장면을 담은 태그와 함께 저장되고, 사용자가 처한 맥락과 상황을 표현하는 태그에 맞춰 할 일을 추천합니다.\n",
    "\n",
    "시간 태그에는 휴일 여부, 요일, 하루 중의 시간대 등의 정보를 포함하세요.\n",
    "공간 태그에는 사용자의 위치, 활동하는 장소 등의 정보를 포함하세요.\n",
    "기타 태그에는 시간과 공간 태그에 포함되지 않지만 할 일의 맥락과 상황을 검색하기에 좋은 정보를 포함하세요.\n",
    "\n",
    "사용자 정보: {bio}\n",
    "장면: {scenes}\n",
    "지침: {format_instruction}\n",
    "\"\"\").partial(format_instruction=pydantic_parser.get_format_instructions())\n",
    "\n",
    "scenes_chain = scene_prompt | scene_parser | pydantic_parser\n",
    "response = scenes_chain.invoke({\"bio\": user_bio, \"scenes\": scenes_list})\n",
    "\n",
    "for scene in response.scenes:\n",
    "    user.scenes.append(scene)\n",
    "    print(scene.model_dump_json())"
   ]
  },
  {
   "cell_type": "code",
   "execution_count": 6,
   "metadata": {},
   "outputs": [
    {
     "data": {
      "text/plain": [
       "(['지하철', '도로', '버스', '사무실', '서울', '작업 공간', '카페', '집', '도서관', 'PC방'],\n",
       " ['저녁', '출근 시간', '업무 시간', '주중', '오전', '퇴근 시간', '주말', '여가 시간', '짧은 휴식', '오후'],\n",
       " ['프로젝트',\n",
       "  '지식 습득',\n",
       "  '재충전',\n",
       "  '사회적 상호작용',\n",
       "  '혼잡함',\n",
       "  '집중',\n",
       "  '취미',\n",
       "  '책임감',\n",
       "  '자기 개발',\n",
       "  '스트레스 해소',\n",
       "  '회의',\n",
       "  '편안함',\n",
       "  '정보 습득',\n",
       "  '팀워크',\n",
       "  '오락',\n",
       "  '소음',\n",
       "  '대중교통',\n",
       "  '자기 관리',\n",
       "  '애정'])"
      ]
     },
     "execution_count": 6,
     "metadata": {},
     "output_type": "execute_result"
    }
   ],
   "source": [
    "def collect_tags(user):\n",
    "    location_tags = []\n",
    "    time_tags = []\n",
    "    other_tags = []\n",
    "\n",
    "    for scene in user.scenes:\n",
    "        location_tags += scene.location_tags\n",
    "        time_tags += scene.time_tags\n",
    "        other_tags += scene.other_tags\n",
    "\n",
    "    location_tags = list(set(location_tags))\n",
    "    time_tags = list(set(time_tags))\n",
    "    other_tags = list(set(other_tags))\n",
    "\n",
    "    return location_tags, time_tags, other_tags\n",
    "\n",
    "collect_tags(user)"
   ]
  },
  {
   "cell_type": "code",
   "execution_count": 7,
   "metadata": {},
   "outputs": [],
   "source": [
    "from langchain.docstore.document import Document\n",
    "\n",
    "def store_tags(tag_list, tag_category):\n",
    "    documents = []\n",
    "    \n",
    "    for i, tag in enumerate(tag_list):\n",
    "        document = Document(page_content=tag, metadata={'source': f'{tag_category}_{i+1}'})\n",
    "        documents.append(document)\n",
    "\n",
    "    vectorstore = Chroma.from_documents(\n",
    "        documents = documents,\n",
    "        embedding = OpenAIEmbeddings(model = 'text-embedding-3-large'),\n",
    "        collection_name = f'{tag_category}_tags',\n",
    "        persist_directory = 'data'\n",
    "    )\n",
    "    \n",
    "    return vectorstore\n",
    "\n",
    "location_tag_vectors = store_tags(collect_tags(user)[0], 'location')\n",
    "time_tag_vectors = store_tags(collect_tags(user)[1], 'time')\n",
    "other_tag_vectors = store_tags(collect_tags(user)[2], 'other')"
   ]
  },
  {
   "cell_type": "code",
   "execution_count": 8,
   "metadata": {},
   "outputs": [
    {
     "name": "stdout",
     "output_type": "stream",
     "text": [
      "벡터 저장소에 저장된 태그의 수: 19\n",
      "검색 결과의 길이: 4\n",
      "가장 유사한 결과: 자기 관리 (벡터 거리: 1.3196)\n",
      "\n",
      "결과 1: 자기 관리\n",
      "벡터 거리: 1.3196\n",
      "\n",
      "결과 2: 팀워크\n",
      "벡터 거리: 1.3275\n",
      "\n",
      "결과 3: 혼잡함\n",
      "벡터 거리: 1.3459\n",
      "\n",
      "결과 4: 정보 습득\n",
      "벡터 거리: 1.3483\n",
      "\n"
     ]
    }
   ],
   "source": [
    "def print_answer_to_query(query, vectorstore, show_all = False):\n",
    "    try:\n",
    "        if vectorstore._collection.count() == 0:\n",
    "            print(\"벡터 저장소가 비어 있습니다.\")\n",
    "            return\n",
    "            \n",
    "        print(f'벡터 저장소에 저장된 태그의 수: {vectorstore._collection.count()}')\n",
    "        results = vectorstore.similarity_search_with_score(query)\n",
    "        \n",
    "        if results:\n",
    "            print(f\"검색 결과의 길이: {len(results)}\")\n",
    "            print(f\"가장 유사한 결과: {results[0][0].page_content} (벡터 거리: {results[0][1]:.4f})\\n\")\n",
    "\n",
    "            if show_all:\n",
    "                for i, (doc, score) in enumerate(results):\n",
    "                    print(f\"결과 {i + 1}: {doc.page_content}\")\n",
    "                    print(f\"벡터 거리: {score:.4f}\\n\")\n",
    "        else:\n",
    "            print(\"검색 결과가 없습니다.\")\n",
    "            \n",
    "    except Exception as e:\n",
    "        print(f\"오류 발생: {e}\")\n",
    "\n",
    "print_answer_to_query(\"회사에서 잔업하기\", other_tag_vectors, show_all=True)"
   ]
  },
  {
   "cell_type": "code",
   "execution_count": 9,
   "metadata": {},
   "outputs": [
    {
     "data": {
      "text/plain": [
       "{'name': '유튜브 시청',\n",
       " 'location_tags': ['집'],\n",
       " 'time_tags': ['주중', '저녁', '여가 시간'],\n",
       " 'other_tags': ['취미', '정보 습득', '오락']}"
      ]
     },
     "execution_count": 9,
     "metadata": {},
     "output_type": "execute_result"
    }
   ],
   "source": [
    "import json\n",
    "\n",
    "user_bio = user.model_dump_json()\n",
    "user_dict = json.loads(user_bio)\n",
    "user_dict['scenes'][5]"
   ]
  },
  {
   "cell_type": "code",
   "execution_count": 10,
   "metadata": {},
   "outputs": [],
   "source": [
    "# LLM 초기화\n",
    "llm = ChatOpenAI(model_name=\"gpt-4o-mini\", temperature=0, max_tokens=None)"
   ]
  },
  {
   "cell_type": "code",
   "execution_count": 11,
   "metadata": {},
   "outputs": [],
   "source": [
    "from langchain.schema import BaseOutputParser\n",
    "\n",
    "class CustomListOutputParser(BaseOutputParser):\n",
    "    def parse(self, text: str) -> list[str]:\n",
    "        responses = text.split(\"---\")\n",
    "        items = [response.strip() for response in responses]\n",
    "        return items\n",
    "\n",
    "    def get_format_instructions(self) -> str:\n",
    "        return '서로 다른 답변은 \"---\"로 구분하세요.'\n",
    "\n",
    "# 파서 초기화\n",
    "response_parser = CustomListOutputParser()"
   ]
  },
  {
   "cell_type": "code",
   "execution_count": 12,
   "metadata": {},
   "outputs": [],
   "source": [
    "prompt_template = ChatPromptTemplate.from_template(\"\"\"\n",
    "다음은 사용자 정보입니다. 이 정보를 바탕으로, 사용자의 성격과 하루 일과, 주요 관심사를를 상상해서 1문단으로 작성하세요.\n",
    "이를 작성하는 이유는 사용자의 할 일을 사용자의 생활패턴과 맥락에 맞게 구체화하여 추천하기 위해서입니다.\n",
    "사용자에 대한 이해가 깊어질수록 사용자에게 더 유용한 할 일을 추천할 수 있습니다.\n",
    "사용자의 긍정적인 면과 부정적인 면을 모두 포함할 수 있도록 작성하세요.\n",
    "\n",
    "작성된 내용 중 사용자가 적합한 것을 선택할 수 있도록, 서로 다른 내용의 답변을 3~5개 생성하세요.\n",
    "각각의 답변은 사용자 정보의 다른 부분에 집중하며, 서로 비슷하지 않은 내용이어야 합니다.\n",
    "예를 들어 한 답변이 \"대중교통\"이라는 키워드에 집중한다면, 다른 답변은 \"도서관\" 등 다른 맥락에 집중할 수 있습니다.\n",
    "만약 비슷한 답변이 생성된다면 생략하세요.\n",
    "\n",
    "{format_instruction}\n",
    "\n",
    "사용자 정보: {bio}\n",
    "\n",
    "답변:\n",
    "\"\"\").partial(format_instruction=response_parser.get_format_instructions())\n",
    "\n",
    "chain = prompt_template | llm | response_parser\n",
    "responses = chain.invoke({\"bio\": user_bio})"
   ]
  },
  {
   "cell_type": "code",
   "execution_count": 13,
   "metadata": {},
   "outputs": [
    {
     "name": "stdout",
     "output_type": "stream",
     "text": [
      "윤형석은 서울에 거주하는 예비창업자로, 내향적이고 직관적인 성격을 지니고 있습니다. 그는 지적 호기심이 강해 새로운 아이디어를 탐구하는 것을 즐기지만, 때때로 계획성과 조직력이 부족해 목표 달성에 어려움을 겪기도 합니다. 출퇴근길에는 대중교통을 이용하며 혼잡한 환경 속에서도 자신의 생각에 몰두하는 편입니다. 업무 시간에는 팀워크를 통해 프로젝트를 진행하며, 저녁 시간에는 집에서 유튜브를 시청하거나 애완동물을 돌보며 재충전하는 시간을 가집니다. 주말에는 게임을 통해 스트레스를 해소하고 사회적 상호작용을 즐깁니다.\n",
      "---\n",
      "윤형석은 서울의 혼잡한 대중교통을 이용하며 출퇴근하는 예비창업자입니다. 그는 내향적인 성격 덕분에 혼잡한 지하철이나 버스에서도 자신의 생각에 집중할 수 있는 능력을 가지고 있지만, 때때로 계획성 부족으로 인해 출퇴근 시간에 여유를 두지 못하는 경우가 있습니다. 이러한 상황에서 그는 대중교통을 이용하며 책이나 팟캐스트를 통해 지식을 쌓는 것을 선호합니다.\n",
      "---\n",
      "윤형석은 주중 저녁 시간에 집에서 유튜브를 시청하며 여가를 즐기는 예비창업자입니다. 그는 지적 호기심이 강해 다양한 주제의 영상을 탐색하는 것을 좋아하지만, 때때로 무기력함을 느껴 계획적으로 시간을 관리하지 못하는 경향이 있습니다. 이러한 여가 시간은 그에게 스트레스를 해소하고 창의력을 자극하는 중요한 순간이 됩니다.\n",
      "---\n",
      "윤형석은 주말 오후에 집에서 게임을 즐기며 스트레스를 해소하는 예비창업자입니다. 그는 내향적인 성격 덕분에 혼자서 게임을 하며 편안함을 느끼지만, 때때로 사회적 상호작용이 부족해 외로움을 느끼기도 합니다. 게임을 통해 친구들과 소통하며 즐거운 시간을 보내는 것이 그에게는 중요한 여가 활동입니다.\n",
      "---\n",
      "윤형석은 주중 오후에 집에서 공부하며 자기 개발에 힘쓰는 예비창업자입니다. 그는 직관적이고 창의적인 성격 덕분에 새로운 지식을 습득하는 데 큰 흥미를 느끼지만, 계획성 부족으로 인해 공부 시간을 자주 놓치는 경우가 있습니다. 이러한 자기 개발 시간은 그에게 큰 만족감을 주며, 창의적인 아이디어를 발전시키는 데 도움을 줍니다.\n",
      "---\n"
     ]
    }
   ],
   "source": [
    "for response in responses:\n",
    "    print(response)\n",
    "    print(\"---\")"
   ]
  },
  {
   "cell_type": "code",
   "execution_count": 14,
   "metadata": {},
   "outputs": [
    {
     "data": {
      "text/plain": [
       "'윤형석은 주말 오후에 집에서 게임을 즐기며 스트레스를 해소하는 예비창업자입니다. 그는 내향적인 성격 덕분에 혼자서 게임을 하며 편안함을 느끼지만, 때때로 사회적 상호작용이 부족해 외로움을 느끼기도 합니다. 게임을 통해 친구들과 소통하며 즐거운 시간을 보내는 것이 그에게는 중요한 여가 활동입니다.'"
      ]
     },
     "execution_count": 14,
     "metadata": {},
     "output_type": "execute_result"
    }
   ],
   "source": [
    "def set_prompt(user: User, responses: list[str], index: int):\n",
    "    if index < 0 or index >= len(responses):\n",
    "        raise IndexError(\"Index out of bounds.\")\n",
    "    user.prompt = responses[index].strip()\n",
    "\n",
    "set_prompt(user, responses, 3)\n",
    "user.prompt"
   ]
  },
  {
   "cell_type": "code",
   "execution_count": null,
   "metadata": {},
   "outputs": [],
   "source": [
    "class Subtask(BaseModel):\n",
    "    # basic information of the subtask\n",
    "    name: str\n",
    "    id: Optional[Union[int, str]]\n",
    "    index: Optional[int]\n",
    "    context: Optional[str]\n",
    "    \n",
    "    # tags for the subtask\n",
    "    location_tags: list[str]\n",
    "    time_tags: list[str]\n",
    "    other_tags: list[str]\n",
    "    estimated_minutes: int\n",
    "    \n",
    "    # subtasks of the subtask\n",
    "    has_subtasks: bool = False\n",
    "    subtasks: Optional[list['Subtask']]\n",
    "    \n",
    "    # super of the subtask\n",
    "    supertask_id: Optional[Union[int, str]]\n",
    "    supertask_type: Optional[str]\n",
    "    \n",
    "    _supertask: Any = None\n",
    "    \n",
    "    def get_supertask(self):\n",
    "        return self._supertask\n",
    "    \n",
    "    def set_supertask(self, task:Any, task_type: str):\n",
    "        self._supertask = task\n",
    "        self.supertask_id = getattr(task, 'id', None)\n",
    "        self.supertask_type = task_type\n",
    "        \n",
    "    def set_supertask_of_subtask(self):\n",
    "        if self.has_subtasks:\n",
    "            for subtask in self.subtasks:\n",
    "                subtask.set_supertask(self, 'subtask')\n",
    "                subtask.set_supertask_of_subtask()\n",
    "    \n",
    "    # add a subtask of this subtask\n",
    "    def add_subtask(self, subtask: 'Subtask'):\n",
    "        if not self.has_subtasks:\n",
    "            self.subtasks = []\n",
    "            self.has_subtasks = True\n",
    "        self.subtasks.append(subtask)\n",
    "    \n",
    "    # set the index of the subtasks\n",
    "    def set_subtasks_index(self):\n",
    "        for i, subtask in enumerate(self.subtasks):\n",
    "            subtask.index = (i + 1)\n",
    "    \n",
    "    # print the subtask with all its subtasks\n",
    "    def print_self(self):\n",
    "        print(f\"Subtask_{self.index}: {self.name}\")\n",
    "        print(f\"- Context: {self.context}\")\n",
    "        print(f\"- Location Tags: {self.location_tags}\")\n",
    "        print(f\"- Time Tags: {self.time_tags}\")\n",
    "        print(f\"- Other Tags: {self.other_tags}\")\n",
    "        print(f\"- Estimated Minutes: {self.estimated_minutes}\")\n",
    "        print(f\"- Supertask: {self.supertask_id} ({self.supertask_type})\")\n",
    "        print()\n",
    "        \n",
    "        if self.has_subtasks:\n",
    "            print(\"Subtasks:\")\n",
    "            for subtask in self.subtasks:\n",
    "                subtask.print_self()\n",
    "    \n",
    "    # get a subtask of this subtask\n",
    "    def get_subtask(self, index: int):\n",
    "        if index < 0 or index >= len(self.subtasks):\n",
    "            raise IndexError(\"Index out of bounds.\")\n",
    "        return self.subtasks[index]\n",
    "    \n",
    "    # get all subtasks of this subtask\n",
    "    def get_all_subtasks(self):\n",
    "        subtasks = []\n",
    "        \n",
    "        if self.has_subtasks:\n",
    "            subtasks = self.subtasks.copy()    \n",
    "            for subtask in self.subtasks:\n",
    "                subtasks += subtask.get_all_subtasks()\n",
    "            \n",
    "        return subtasks\n",
    "    \n",
    "    # set the total minutes of the subtask based on its subtasks if it has any\n",
    "    def set_total_estimated_minutes(self):\n",
    "        if self.has_subtasks:\n",
    "            self.estimated_minutes = sum([subtask.estimated_minutes for subtask in self.subtasks])\n",
    "            \n",
    "            for subtask in self.subtasks:\n",
    "                subtask.set_total_estimated_minutes()\n",
    "\n",
    "    # update a subtask of this subtask            \n",
    "    def update_subtask(self, index: int, subtask: 'Subtask'):\n",
    "        if index < 0 or index >= len(self.subtasks):\n",
    "            raise IndexError(\"Index out of bounds.\")\n",
    "        self.subtasks[index] = subtask\n",
    "    \n",
    "    # remove a subtask of this subtask\n",
    "    def remove_subtask(self, index: int):\n",
    "        if index < 0 or index >= len(self.subtasks):\n",
    "            raise IndexError(\"Index out of bounds.\")\n",
    "        del self.subtasks[index]\n",
    "        self.set_subtasks_index()\n",
    "    \n",
    "    # clear all subtasks of this subtask recursively\n",
    "    def clear_subtasks(self):\n",
    "        for subtask in self.subtasks:\n",
    "            subtask.clear_subtasks()\n",
    "        \n",
    "        self.subtasks.clear()\n",
    "        self.has_subtasks = False\n",
    "\n",
    "    # count the number of subtasks of this subtask\n",
    "    def count_subtasks(self):\n",
    "        return len(self.subtasks) if self.has_subtasks else 0\n",
    "\n",
    "class Task(BaseModel):\n",
    "    name: str\n",
    "    id: Optional[Union[int, str]]\n",
    "    context: str\n",
    "\n",
    "    location_tags: list[str]\n",
    "    time_tags: list[str]\n",
    "    other_tags: list[str]\n",
    "    estimated_minutes: int\n",
    "    \n",
    "    subtasks: list[Subtask]\n",
    "    \n",
    "    def set_supertask_of_subtask(self):\n",
    "        for subtask in self.subtasks:\n",
    "            subtask.set_supertask(self, 'task')\n",
    "            subtask.set_supertask_of_subtask()\n",
    "    \n",
    "    def add_subtask(self, subtask: Subtask):\n",
    "        self.subtasks.append(subtask)\n",
    "        \n",
    "    def set_subtask_index(self):\n",
    "        for i, subtask in enumerate(self.subtasks):\n",
    "            subtask.index = (i + 1)\n",
    "        \n",
    "    def get_subtask(self, index: int):\n",
    "        if index < 0 or index >= len(self.subtasks):\n",
    "            raise IndexError(\"Index out of bounds.\")\n",
    "        return self.subtasks[index]\n",
    "    \n",
    "    def get_all_subtasks(self):\n",
    "        subtasks = []\n",
    "        \n",
    "        for subtask in self.subtasks:\n",
    "            subtasks.append(subtask)\n",
    "            subtasks.extend(subtask.get_all_subtasks())\n",
    "        \n",
    "        return subtasks\n",
    "    \n",
    "    def set_supertask(self):\n",
    "        for subtask in self.subtasks:\n",
    "            subtask.supertask = self\n",
    "            subtask.set_supertask()\n",
    "    \n",
    "    def print_self(self):\n",
    "        print(f\"Task: {self.name}\")\n",
    "        print(f\"- Context: {self.context}\")\n",
    "        print(f\"- Location Tags: {self.location_tags}\")\n",
    "        print(f\"- Time Tags: {self.time_tags}\")\n",
    "        print(f\"- Other Tags: {self.other_tags}\")\n",
    "        print(f\"- Estimated Minutes: {self.estimated_minutes}\")\n",
    "        print()\n",
    "        \n",
    "        print(\"Subtasks:\")\n",
    "        for subtask in self.subtasks:\n",
    "            subtask.print_self()\n",
    "    \n",
    "    def get_total_minutes(self):\n",
    "        for subtask in self.subtasks:\n",
    "            subtask.set_total_estimated_minutes()\n",
    "        \n",
    "        self.estimated_minutes = sum([subtask.estimated_minutes for subtask in self.subtasks])\n",
    "    \n",
    "    def update_subtask(self, index: int, subtask: Subtask):\n",
    "        if index < 0 or index >= len(self.subtasks):\n",
    "            raise IndexError(\"Index out of bounds.\")\n",
    "        self.subtasks[index] = subtask\n",
    "\n",
    "    def remove_subtask(self, index: int):\n",
    "        if index < 0 or index >= len(self.subtasks):\n",
    "            raise IndexError(\"Index out of bounds.\")\n",
    "        del self.subtasks[index]\n",
    "\n",
    "    def clear_subtasks(self):\n",
    "        self.subtasks.clear()"
   ]
  },
  {
   "cell_type": "code",
   "execution_count": 16,
   "metadata": {},
   "outputs": [],
   "source": [
    "Subtask.model_rebuild()\n",
    "Task.model_rebuild()\n",
    "subtask_pydantic_parser = PydanticOutputParser(pydantic_object=Subtask)\n",
    "tasks_pydantic_parser = PydanticOutputParser(pydantic_object=Task)"
   ]
  },
  {
   "cell_type": "code",
   "execution_count": 17,
   "metadata": {},
   "outputs": [],
   "source": [
    "task_breakdown = ChatPromptTemplate.from_template(\"\"\"\n",
    "다음은 사용자가 입력한 해야 할 일입니다. 이 할 일을 세부적으로 나누어 작성하세요.\n",
    "각각의 할 일은 최대한 구체적인 행동으로 작성하고, 이를 수행하는 데 필요한 시간과 노력을 고려하여 작성하세요.\n",
    "할 일을 세부적으로 나누면 사용자가 할 일을 더 쉽게 완료할 수 있습니다.\n",
    "\n",
    "각각의 할 일은 사용자의 하루를 나타내는 여러 장면을 담은 태그와 함께 저장되고, 사용자가 처한 맥락과 상황을 표현하는 태그에 맞춰 할 일을 추천합니다.\n",
    "각각의 할 일은 사용자의 위치, 활동하는 장소, 시간대 등을 고려하여 태그를 부여하세요.\n",
    "\n",
    "Task의 context에서는 사용자 정보와 하루 일과에 기반하여 해당 할 일을 언제 하는 것이 좋을지 설명하세요.\n",
    "각각의 Subtask에 적절한 태그를 부여하세요.\n",
    "\n",
    "{format_instruction}\n",
    "\n",
    "사용자의 인적 정보: {bio}\n",
    "사용자의 하루 일과: {prompt}\n",
    "사용자가 입력한 할 일: {task}\n",
    "\"\"\").partial(format_instruction=tasks_pydantic_parser.get_format_instructions())\n",
    "\n",
    "task_chain = task_breakdown | llm | tasks_pydantic_parser\n",
    "task_response = task_chain.invoke({\"bio\": user_bio, \"prompt\": user.prompt, \"task\": \"회사에서 잔업하기\"})"
   ]
  },
  {
   "cell_type": "code",
   "execution_count": 18,
   "metadata": {},
   "outputs": [
    {
     "name": "stdout",
     "output_type": "stream",
     "text": [
      "Task: 회사에서 잔업하기\n",
      "- Context: 윤형석은 주중 오후에 사무실에서 잔업을 하며 업무를 마무리하는 시간을 가집니다. 이 시간은 업무 집중도가 높고, 팀원들과의 협업이 필요한 경우가 많습니다.\n",
      "- Location Tags: ['사무실', '서울']\n",
      "- Time Tags: ['주중', '오후', '업무 시간']\n",
      "- Other Tags: ['팀워크', '프로젝트', '회의']\n",
      "- Estimated Minutes: 120\n",
      "\n",
      "Subtasks:\n",
      "Subtask_1: 잔업할 업무 목록 정리하기\n",
      "- Context: 잔업을 시작하기 전에 어떤 업무를 처리할지 목록을 정리합니다.\n",
      "- Location Tags: ['사무실']\n",
      "- Time Tags: ['주중', '오후', '업무 시간']\n",
      "- Other Tags: ['업무 계획', '조직']\n",
      "- Estimated Minutes: 15\n",
      "- Supertask: 1 (task)\n",
      "\n",
      "Subtask_2: 우선순위에 따라 업무 처리하기\n",
      "- Context: 정리한 업무 목록을 바탕으로 우선순위에 따라 업무를 처리합니다.\n",
      "- Location Tags: ['사무실']\n",
      "- Time Tags: ['주중', '오후', '업무 시간']\n",
      "- Other Tags: ['업무 집중', '효율성']\n",
      "- Estimated Minutes: 60\n",
      "- Supertask: 1 (task)\n",
      "\n",
      "Subtask_3: 팀원과의 소통 및 피드백 받기\n",
      "- Context: 업무 진행 중 필요한 경우 팀원과 소통하여 피드백을 받습니다.\n",
      "- Location Tags: ['사무실']\n",
      "- Time Tags: ['주중', '오후', '업무 시간']\n",
      "- Other Tags: ['팀워크', '소통']\n",
      "- Estimated Minutes: 30\n",
      "- Supertask: 1 (task)\n",
      "\n",
      "Subtask_4: 업무 마무리 및 정리하기\n",
      "- Context: 잔업이 끝난 후, 업무를 마무리하고 정리합니다.\n",
      "- Location Tags: ['사무실']\n",
      "- Time Tags: ['주중', '오후', '업무 시간']\n",
      "- Other Tags: ['업무 정리', '마무리']\n",
      "- Estimated Minutes: 15\n",
      "- Supertask: 1 (task)\n",
      "\n"
     ]
    }
   ],
   "source": [
    "Task = task_response\n",
    "Task.set_subtask_index()\n",
    "Task.get_total_minutes()\n",
    "Task.set_supertask_of_subtask()\n",
    "Task.print_self()"
   ]
  },
  {
   "cell_type": "code",
   "execution_count": 19,
   "metadata": {},
   "outputs": [
    {
     "data": {
      "text/plain": [
       "Subtask(name='잔업할 업무 목록 정리하기', id=1, index=1, context='잔업을 시작하기 전에 어떤 업무를 처리할지 목록을 정리합니다.', location_tags=['사무실'], time_tags=['주중', '오후', '업무 시간'], other_tags=['업무 계획', '조직'], estimated_minutes=15, has_subtasks=False, subtasks=None, supertask_id=1, supertask_type='task')"
      ]
     },
     "execution_count": 19,
     "metadata": {},
     "output_type": "execute_result"
    }
   ],
   "source": [
    "Task.get_subtask(0)"
   ]
  },
  {
   "cell_type": "code",
   "execution_count": 20,
   "metadata": {},
   "outputs": [],
   "source": [
    "subtask_breakdown = ChatPromptTemplate.from_template(\"\"\"\n",
    "다음은 사용자가 입력한 해해야 할 일입니다. 이 할 일을 세부적으로 나누어 작성하세요.\n",
    "각각의 할 일은 최대한 구체적인 행동으로 작성하고, 이를 수행하는 데 필요한 시간과 노력을 고려하여 작성하세요.\n",
    "할 일을 세부적으로 나누면 사용자가 할 일을 더 쉽게 완료할 수 있습니다.\n",
    "\n",
    "각각의 할 일은 사용자의 하루를 나타내는 여러 장면을 담은 태그와 함께 저장되고, 사용자가 처한 맥락과 상황을 표현하는 태그에 맞춰 할 일을 추천합니다.\n",
    "각각의 할 일은 사용자의 위치, 활동하는 장소, 시간대 등을 고려하여 태그를 부여하세요.\n",
    "\n",
    "Subask의 context에서는 사용자 정보와 하루 일과에 기반하여 해당 할 일을 언제 하는 것이 좋을지 설명하세요.\n",
    "각각의 Subtask에 적절한 태그를 부여하세요.\n",
    "\n",
    "{format_instruction}\n",
    "\n",
    "사용자의 인적 정보: {bio}\n",
    "사용자의 하루 일과: {prompt}\n",
    "사용자가 입력한 할 일: {task}\n",
    "\"\"\").partial(format_instruction=subtask_pydantic_parser.get_format_instructions())\n",
    "\n",
    "subtask_chain = subtask_breakdown | llm | subtask_pydantic_parser\n",
    "subtask_response = subtask_chain.invoke({\"bio\": user_bio, \"prompt\": user.prompt, \"task\": Task.get_subtask(0)})"
   ]
  },
  {
   "cell_type": "code",
   "execution_count": 21,
   "metadata": {},
   "outputs": [
    {
     "name": "stdout",
     "output_type": "stream",
     "text": [
      "Subtask_1: 잔업할 업무 목록 정리하기\n",
      "- Context: 잔업을 시작하기 전에 어떤 업무를 처리할지 목록을 정리합니다.\n",
      "- Location Tags: ['사무실']\n",
      "- Time Tags: ['주중', '오후', '업무 시간']\n",
      "- Other Tags: ['업무 계획', '조직']\n",
      "- Estimated Minutes: 15\n",
      "- Supertask: 1 (task)\n",
      "\n",
      "Subtasks:\n",
      "Subtask_1: 현재 진행 중인 프로젝트 확인하기\n",
      "- Context: 현재 진행 중인 프로젝트의 상태를 확인하여 잔업 목록에 포함할 업무를 결정합니다.\n",
      "- Location Tags: ['사무실']\n",
      "- Time Tags: ['주중', '오후', '업무 시간']\n",
      "- Other Tags: ['업무 계획', '조직']\n",
      "- Estimated Minutes: 5\n",
      "- Supertask: 1 (task)\n",
      "\n",
      "Subtask_2: 우선순위 정하기\n",
      "- Context: 확인한 프로젝트를 바탕으로 우선순위를 정하여 잔업 목록을 작성합니다.\n",
      "- Location Tags: ['사무실']\n",
      "- Time Tags: ['주중', '오후', '업무 시간']\n",
      "- Other Tags: ['업무 계획', '조직']\n",
      "- Estimated Minutes: 5\n",
      "- Supertask: 1 (task)\n",
      "\n",
      "Subtask_3: 업무 목록 작성하기\n",
      "- Context: 우선순위에 따라 잔업 목록을 작성합니다.\n",
      "- Location Tags: ['사무실']\n",
      "- Time Tags: ['주중', '오후', '업무 시간']\n",
      "- Other Tags: ['업무 계획', '조직']\n",
      "- Estimated Minutes: 5\n",
      "- Supertask: 1 (task)\n",
      "\n"
     ]
    }
   ],
   "source": [
    "subtask_response.print_self()"
   ]
  },
  {
   "cell_type": "code",
   "execution_count": 22,
   "metadata": {},
   "outputs": [
    {
     "data": {
      "text/plain": [
       "15"
      ]
     },
     "execution_count": 22,
     "metadata": {},
     "output_type": "execute_result"
    }
   ],
   "source": [
    "subtask_response.set_total_estimated_minutes()\n",
    "subtask_response.estimated_minutes"
   ]
  },
  {
   "cell_type": "code",
   "execution_count": 23,
   "metadata": {},
   "outputs": [
    {
     "name": "stdout",
     "output_type": "stream",
     "text": [
      "Task: 회사에서 잔업하기\n",
      "- Context: 윤형석은 주중 오후에 사무실에서 잔업을 하며 업무를 마무리하는 시간을 가집니다. 이 시간은 업무 집중도가 높고, 팀원들과의 협업이 필요한 경우가 많습니다.\n",
      "- Location Tags: ['사무실', '서울']\n",
      "- Time Tags: ['주중', '오후', '업무 시간']\n",
      "- Other Tags: ['팀워크', '프로젝트', '회의']\n",
      "- Estimated Minutes: 120\n",
      "\n",
      "Subtasks:\n",
      "Subtask_1: 잔업할 업무 목록 정리하기\n",
      "- Context: 잔업을 시작하기 전에 어떤 업무를 처리할지 목록을 정리합니다.\n",
      "- Location Tags: ['사무실']\n",
      "- Time Tags: ['주중', '오후', '업무 시간']\n",
      "- Other Tags: ['업무 계획', '조직']\n",
      "- Estimated Minutes: 15\n",
      "- Supertask: 1 (task)\n",
      "\n",
      "Subtasks:\n",
      "Subtask_1: 현재 진행 중인 프로젝트 확인하기\n",
      "- Context: 현재 진행 중인 프로젝트의 상태를 확인하여 잔업 목록에 포함할 업무를 결정합니다.\n",
      "- Location Tags: ['사무실']\n",
      "- Time Tags: ['주중', '오후', '업무 시간']\n",
      "- Other Tags: ['업무 계획', '조직']\n",
      "- Estimated Minutes: 5\n",
      "- Supertask: 1 (subtask)\n",
      "\n",
      "Subtask_2: 우선순위 정하기\n",
      "- Context: 확인한 프로젝트를 바탕으로 우선순위를 정하여 잔업 목록을 작성합니다.\n",
      "- Location Tags: ['사무실']\n",
      "- Time Tags: ['주중', '오후', '업무 시간']\n",
      "- Other Tags: ['업무 계획', '조직']\n",
      "- Estimated Minutes: 5\n",
      "- Supertask: 1 (subtask)\n",
      "\n",
      "Subtask_3: 업무 목록 작성하기\n",
      "- Context: 우선순위에 따라 잔업 목록을 작성합니다.\n",
      "- Location Tags: ['사무실']\n",
      "- Time Tags: ['주중', '오후', '업무 시간']\n",
      "- Other Tags: ['업무 계획', '조직']\n",
      "- Estimated Minutes: 5\n",
      "- Supertask: 1 (subtask)\n",
      "\n",
      "Subtask_2: 우선순위에 따라 업무 처리하기\n",
      "- Context: 정리한 업무 목록을 바탕으로 우선순위에 따라 업무를 처리합니다.\n",
      "- Location Tags: ['사무실']\n",
      "- Time Tags: ['주중', '오후', '업무 시간']\n",
      "- Other Tags: ['업무 집중', '효율성']\n",
      "- Estimated Minutes: 60\n",
      "- Supertask: 1 (task)\n",
      "\n",
      "Subtask_3: 팀원과의 소통 및 피드백 받기\n",
      "- Context: 업무 진행 중 필요한 경우 팀원과 소통하여 피드백을 받습니다.\n",
      "- Location Tags: ['사무실']\n",
      "- Time Tags: ['주중', '오후', '업무 시간']\n",
      "- Other Tags: ['팀워크', '소통']\n",
      "- Estimated Minutes: 30\n",
      "- Supertask: 1 (task)\n",
      "\n",
      "Subtask_4: 업무 마무리 및 정리하기\n",
      "- Context: 잔업이 끝난 후, 업무를 마무리하고 정리합니다.\n",
      "- Location Tags: ['사무실']\n",
      "- Time Tags: ['주중', '오후', '업무 시간']\n",
      "- Other Tags: ['업무 정리', '마무리']\n",
      "- Estimated Minutes: 15\n",
      "- Supertask: 1 (task)\n",
      "\n"
     ]
    }
   ],
   "source": [
    "Task.update_subtask(0, subtask_response)\n",
    "Task.get_total_minutes()\n",
    "Task.set_supertask_of_subtask()\n",
    "Task.print_self()"
   ]
  }
 ],
 "metadata": {
  "kernelspec": {
   "display_name": "GGTDD",
   "language": "python",
   "name": "python3"
  },
  "language_info": {
   "codemirror_mode": {
    "name": "ipython",
    "version": 3
   },
   "file_extension": ".py",
   "mimetype": "text/x-python",
   "name": "python",
   "nbconvert_exporter": "python",
   "pygments_lexer": "ipython3",
   "version": "3.12.9"
  }
 },
 "nbformat": 4,
 "nbformat_minor": 2
}
