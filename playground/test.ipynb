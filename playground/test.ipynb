{
 "cells": [
  {
   "cell_type": "code",
   "execution_count": 3,
   "metadata": {},
   "outputs": [
    {
     "data": {
      "text/plain": [
       "True"
      ]
     },
     "execution_count": 3,
     "metadata": {},
     "output_type": "execute_result"
    }
   ],
   "source": [
    "from dotenv import load_dotenv\n",
    "load_dotenv()"
   ]
  },
  {
   "cell_type": "code",
   "execution_count": 4,
   "metadata": {},
   "outputs": [],
   "source": [
    "from langchain_openai import ChatOpenAI\n",
    "from langchain_core.prompts import ChatPromptTemplate\n",
    "from langchain_core.output_parsers import PydanticOutputParser\n",
    "\n",
    "from pydantic import BaseModel\n",
    "from datetime import datetime\n",
    "from pprint import pprint"
   ]
  },
  {
   "cell_type": "code",
   "execution_count": 5,
   "metadata": {},
   "outputs": [],
   "source": [
    "class Scene(BaseModel):\n",
    "    name: str\n",
    "    location_tags: list[str]\n",
    "    time_tags: list[str]\n",
    "    other_tags: list[str]\n",
    "\n",
    "class Scenes(BaseModel):\n",
    "    scenes: list[Scene]\n",
    "\n",
    "scenes_list = [\"출퇴근길\", \"휴식\", \"공부\", \"게임\", \"유튜브 시청\", \"애완동물 돌보기기\"]"
   ]
  },
  {
   "cell_type": "code",
   "execution_count": 6,
   "metadata": {},
   "outputs": [],
   "source": [
    "class User(BaseModel):\n",
    "    name: str\n",
    "    location: str\n",
    "    birthdate: datetime\n",
    "    occupation: str\n",
    "    personality: list[str]\n",
    "    scenes: list[Scene] = []\n",
    "    prompt: str\n",
    "    positives: list[str]\n",
    "    negatives: list[str]\n",
    "    \n",
    "user_context = {\n",
    "    'name': '윤형석',\n",
    "    'location': '서울',\n",
    "    'birthdate': datetime.strptime('1990-03-28', '%Y-%m-%d'),\n",
    "    'occupation': '예비창업자',\n",
    "    'personality': ['Introverted', 'Intuitive', 'Thinking', 'Perceiving'],\n",
    "    'prompt': 'Your prompt here',\n",
    "    'positives': ['지적 호기심', '창의력', '직관성'],\n",
    "    'negatives': ['계획성 부족', '조직력 부족', '무기력함']\n",
    "}\n",
    "\n",
    "user = User(**user_context)\n",
    "\n",
    "user_bio = user.model_dump_json()"
   ]
  },
  {
   "cell_type": "code",
   "execution_count": 7,
   "metadata": {},
   "outputs": [
    {
     "name": "stdout",
     "output_type": "stream",
     "text": [
      "{\"name\":\"출퇴근길\",\"location_tags\":[\"서울\",\"지하철\",\"버스\"],\"time_tags\":[\"평일\",\"오전\",\"오후\"],\"other_tags\":[\"통근\",\"대중교통\",\"시간 관리\"]}\n",
      "{\"name\":\"휴식\",\"location_tags\":[\"집\",\"카페\"],\"time_tags\":[\"주말\",\"오후\",\"저녁\"],\"other_tags\":[\"스트레스 해소\",\"재충전\",\"여유\"]}\n",
      "{\"name\":\"공부\",\"location_tags\":[\"집\",\"도서관\"],\"time_tags\":[\"평일\",\"오후\",\"저녁\"],\"other_tags\":[\"자기계발\",\"지식 확장\",\"집중\"]}\n",
      "{\"name\":\"게임\",\"location_tags\":[\"집\"],\"time_tags\":[\"주말\",\"오후\",\"저녁\"],\"other_tags\":[\"취미\",\"오락\",\"사회적 상호작용\"]}\n",
      "{\"name\":\"유튜브 시청\",\"location_tags\":[\"집\",\"카페\"],\"time_tags\":[\"주말\",\"오후\",\"저녁\"],\"other_tags\":[\"정보 소비\",\"여가\",\"트렌드\"]}\n",
      "{\"name\":\"애완동물 돌보기\",\"location_tags\":[\"집\"],\"time_tags\":[\"평일\",\"오전\",\"오후\"],\"other_tags\":[\"책임감\",\"애정\",\"일상\"]}\n"
     ]
    }
   ],
   "source": [
    "pydantic_parser = PydanticOutputParser(pydantic_object=Scenes)\n",
    "\n",
    "scene_parser = ChatOpenAI(model_name=\"gpt-4o-mini\", temperature=0.5)\n",
    "\n",
    "scene_prompt = ChatPromptTemplate.from_template(\"\"\"\n",
    "다음은 사용자의 하루를 구성하는 장면들입니다.\n",
    "사용자의 정보와 이 장면들을 바탕으로, 각각의 장면에 어울리는 시간, 공간, 기타 태그를 3~5개씩 필요에 따라 작성하고, 아래 지침에 따라 json 포맷으로 반환하세요.\n",
    "\n",
    "태그를 붙이는 목적은 할 일을 관리하기 위한 데이터베이스에 사용하기 위해서입니다.\n",
    "각각의 할 일은 사용자의 하루를 나타내는 여러 장면을 담은 태그와 함께 저장되고, 사용자가 처한 맥락과 상황을 표현하는 태그에 맞춰 할 일을 추천합니다.\n",
    "\n",
    "시간 태그에는 휴일 여부, 요일, 하루 중의 시간대 등의 정보를 포함하세요.\n",
    "공간 태그에는 사용자의 위치, 활동하는 장소 등의 정보를 포함하세요.\n",
    "기타 태그에는 시간과 공간 태그에 포함되지 않지만 할 일의 맥락과 상황을 검색하기에 좋은 정보를 포함하세요.\n",
    "\n",
    "사용자 정보: {bio}\n",
    "장면: {scenes}\n",
    "지침: {format_instruction}\n",
    "\"\"\").partial(format_instruction=pydantic_parser.get_format_instructions())\n",
    "\n",
    "scenes_chain = scene_prompt | scene_parser | pydantic_parser\n",
    "response = scenes_chain.invoke({\"bio\": user_bio, \"scenes\": scenes_list})\n",
    "\n",
    "for scene in response.scenes:\n",
    "    user.scenes.append(scene)\n",
    "    print(scene.model_dump_json())"
   ]
  },
  {
   "cell_type": "code",
   "execution_count": 8,
   "metadata": {},
   "outputs": [
    {
     "data": {
      "text/plain": [
       "{'name': '유튜브 시청',\n",
       " 'location_tags': ['집', '카페'],\n",
       " 'time_tags': ['주말', '오후', '저녁'],\n",
       " 'other_tags': ['정보 소비', '여가', '트렌드']}"
      ]
     },
     "execution_count": 8,
     "metadata": {},
     "output_type": "execute_result"
    }
   ],
   "source": [
    "import json\n",
    "\n",
    "user_bio = user.model_dump_json()\n",
    "user_dict = json.loads(user_bio)\n",
    "user_dict['scenes'][4]"
   ]
  },
  {
   "cell_type": "code",
   "execution_count": 9,
   "metadata": {},
   "outputs": [],
   "source": [
    "# LLM 초기화\n",
    "llm = ChatOpenAI(model_name=\"gpt-4o-mini\", temperature=0, max_tokens=None)"
   ]
  },
  {
   "cell_type": "code",
   "execution_count": 10,
   "metadata": {},
   "outputs": [],
   "source": [
    "from langchain.schema import BaseOutputParser\n",
    "\n",
    "class CustomListOutputParser(BaseOutputParser):\n",
    "    def parse(self, text: str) -> list[str]:\n",
    "        responses = text.split(\"---\")\n",
    "        items = [response.strip() for response in responses]\n",
    "        return items\n",
    "\n",
    "    def get_format_instructions(self) -> str:\n",
    "        return '서로 다른 답변은 \"---\"로 구분하세요.'\n",
    "\n",
    "# 파서 초기화\n",
    "response_parser = CustomListOutputParser()"
   ]
  },
  {
   "cell_type": "code",
   "execution_count": 11,
   "metadata": {},
   "outputs": [],
   "source": [
    "prompt_template = ChatPromptTemplate.from_template(\"\"\"\n",
    "다음은 사용자 정보입니다. 이 정보를 바탕으로, 사용자의 성격과 하루 일과, 주요 관심사를를 상상해서 1문단으로 작성하세요.\n",
    "이를 작성하는 이유는 사용자의 할 일을 사용자의 생활패턴과 맥락에 맞게 구체화하여 추천하기 위해서입니다.\n",
    "사용자에 대한 이해가 깊어질수록 사용자에게 더 유용한 할 일을 추천할 수 있습니다.\n",
    "사용자의 긍정적인 면과 부정적인 면을 모두 포함할 수 있도록 작성하세요.\n",
    "\n",
    "작성된 내용 중 사용자가 적합한 것을 선택할 수 있도록, 서로 다른 내용의 답변을 3~5개 생성하세요.\n",
    "각각의 답변은 사용자 정보의 다른 부분에 집중하며, 서로 비슷하지 않은 내용이어야 합니다.\n",
    "예를 들어 한 답변이 \"대중교통\"이라는 키워드에 집중한다면, 다른 답변은 \"도서관\" 등 다른 맥락에 집중할 수 있습니다.\n",
    "만약 비슷한 답변이 생성된다면 생략하세요.\n",
    "\n",
    "{format_instruction}\n",
    "\n",
    "사용자 정보: {bio}\n",
    "\n",
    "답변:\n",
    "\"\"\").partial(format_instruction=response_parser.get_format_instructions())\n",
    "\n",
    "chain = prompt_template | llm | response_parser\n",
    "responses = chain.invoke({\"bio\": user_bio})"
   ]
  },
  {
   "cell_type": "code",
   "execution_count": null,
   "metadata": {},
   "outputs": [
    {
     "name": "stdout",
     "output_type": "stream",
     "text": [
      "('윤형석은 서울에 거주하는 30대 초반의 예비창업자로, 내향적이고 직관적인 성격을 지니고 있습니다. 그는 지적 호기심이 강해 새로운 지식을 '\n",
      " '탐구하는 것을 즐기지만, 때때로 계획성과 조직력이 부족해 목표 달성에 어려움을 겪기도 합니다. 평일에는 대중교통을 이용해 출퇴근하며, 이 '\n",
      " '시간을 활용해 자기계발을 위한 공부를 하거나 유튜브를 통해 최신 트렌드를 접합니다. 주말에는 집에서 애완동물을 돌보며 스트레스를 '\n",
      " '해소하고, 카페에서 여유로운 시간을 보내는 것을 좋아합니다. 그러나 가끔은 무기력함에 빠져 취미인 게임이나 영화를 보며 시간을 보내기도 '\n",
      " '합니다.')\n",
      "---\n",
      "('윤형석은 서울에서 예비창업자로 활동하며, 내향적이고 직관적인 성격을 가지고 있습니다. 그는 평일 출퇴근길에 대중교통을 이용하면서도 시간을 '\n",
      " '효율적으로 관리하려고 노력하지만, 계획성 부족으로 인해 가끔은 지연되기도 합니다. 그는 지적 호기심이 강해 새로운 아이디어를 탐구하는 '\n",
      " '것을 좋아하지만, 때때로 무기력함을 느껴 목표에 집중하기 어려운 상황에 처하기도 합니다. 주말에는 카페에서 여유롭게 책을 읽거나 유튜브를 '\n",
      " '시청하며 재충전하는 시간을 가지며, 이러한 활동을 통해 스트레스를 해소합니다.')\n",
      "---\n",
      "('윤형석은 서울에 거주하는 예비창업자로, 내향적이고 직관적인 성격을 지니고 있습니다. 그는 평일 오후에 집이나 도서관에서 집중적으로 '\n",
      " '공부하며 지식 확장을 위해 노력하지만, 계획성 부족으로 인해 가끔은 목표를 잊고 방황하기도 합니다. 주말에는 집에서 애완동물을 돌보며 '\n",
      " '책임감을 느끼고, 여유로운 시간을 보내는 것을 좋아합니다. 그러나 때때로 무기력함에 빠져 게임이나 영화를 보며 시간을 보내는 경향이 '\n",
      " '있어, 이러한 균형을 맞추는 것이 필요합니다.')\n",
      "---\n",
      "('윤형석은 서울에서 예비창업자로 활동하며, 내향적이고 직관적인 성격을 지니고 있습니다. 그는 평일 오후에 집에서 공부하며 지적 호기심을 '\n",
      " '충족시키는 것을 즐기지만, 때때로 계획성 부족으로 인해 목표 달성에 어려움을 겪기도 합니다. 주말에는 카페에서 여유롭게 시간을 보내며 '\n",
      " '스트레스를 해소하고, 애완동물을 돌보는 일상 속에서 책임감을 느끼기도 합니다. 그러나 무기력함이 찾아올 때는 게임이나 유튜브 시청으로 '\n",
      " '시간을 보내며 사회적 상호작용을 시도하기도 합니다.')\n",
      "---\n"
     ]
    }
   ],
   "source": [
    "for response in responses:\n",
    "    print(response)\n",
    "    print(\"---\")"
   ]
  },
  {
   "cell_type": "code",
   "execution_count": 13,
   "metadata": {},
   "outputs": [
    {
     "data": {
      "text/plain": [
       "'윤형석은 서울에서 예비창업자로 활동하며, 내향적이고 직관적인 성격을 가지고 있습니다. 그는 평일 출퇴근길에 대중교통을 이용하면서도 시간을 효율적으로 관리하려고 노력하지만, 계획성 부족으로 인해 가끔은 지연되기도 합니다. 그는 지적 호기심이 강해 새로운 아이디어를 탐구하는 것을 좋아하지만, 때때로 무기력함을 느껴 목표에 집중하기 어려운 상황에 처하기도 합니다. 주말에는 카페에서 여유롭게 책을 읽거나 유튜브를 시청하며 재충전하는 시간을 가지며, 이러한 활동을 통해 스트레스를 해소합니다.'"
      ]
     },
     "execution_count": 13,
     "metadata": {},
     "output_type": "execute_result"
    }
   ],
   "source": [
    "def set_prompt(user: User, responses: list[str], index: int):\n",
    "    if index < 0 or index >= len(responses):\n",
    "        raise IndexError(\"Index out of bounds.\")\n",
    "    user.prompt = responses[index].strip()\n",
    "\n",
    "set_prompt(user, responses, 1)\n",
    "user.prompt"
   ]
  },
  {
   "cell_type": "code",
   "execution_count": 55,
   "metadata": {},
   "outputs": [],
   "source": [
    "class Task(BaseModel):\n",
    "    name: str\n",
    "    location_tags: list[str]\n",
    "    time_tags: list[str]\n",
    "    other_tags: list[str]\n",
    "    estimated_minutes: int\n",
    "    \n",
    "class Tasks(BaseModel):\n",
    "    name: str\n",
    "    context: str\n",
    "    location_tags: list[str]\n",
    "    time_tags: list[str]\n",
    "    other_tags: list[str]\n",
    "    tasks: list[Task]\n",
    "\n",
    "tasks_pydantic_parser = PydanticOutputParser(pydantic_object=Tasks)"
   ]
  },
  {
   "cell_type": "code",
   "execution_count": 56,
   "metadata": {},
   "outputs": [],
   "source": [
    "from langchain_core.output_parsers import JsonOutputParser\n",
    "json_parser = JsonOutputParser()\n",
    "\n",
    "task_breakdown = ChatPromptTemplate.from_template(\"\"\"\n",
    "다음은 사용자가 입력한 헤야 할 일입니다. 이 할 일을 세부적으로 나누어 작성하세요.\n",
    "각각의 할 일은 최대한 구체적인 행동으로 작성하고, 이를 수행하는 데 필요한 시간과 노력을 고려하여 작성하세요.\n",
    "할 일을 세부적으로 나누면 사용자가 할 일을 더 쉽게 완료할 수 있습니다.\n",
    "\n",
    "각각의 할 일은 사용자의 하루를 나타내는 여러 장면을 담은 태그와 함께 저장되고, 사용자가 처한 맥락과 상황을 표현하는 태그에 맞춰 할 일을 추천합니다.\n",
    "각각의 할 일은 사용자의 위치, 활동하는 장소, 시간대 등을 고려하여 태그를 부여하세요.\n",
    "\n",
    "Tasks의 context에서는 사용자 정보와 하루 일과에 기반하여 해당 할 일을 언제 하는 것이 좋을지 설명하세요.\n",
    "각각의 세부 할 일에 적절한 태그를 부여하세요.\n",
    "\n",
    "{format_instruction}\n",
    "\n",
    "사용자의 인적 정보: {bio}\n",
    "사용자의 하루 일과: {prompt}\n",
    "사용자가 입력한 할 일: {task}\n",
    "\"\"\").partial(format_instruction=tasks_pydantic_parser.get_format_instructions())\n",
    "\n",
    "task_chain = task_breakdown | llm\n",
    "task_response = task_chain.invoke({\"bio\": user_bio, \"prompt\": user.prompt, \"task\": \"체중 감량을 위한 계획 및 실천하기\"})"
   ]
  },
  {
   "cell_type": "code",
   "execution_count": 57,
   "metadata": {},
   "outputs": [
    {
     "name": "stdout",
     "output_type": "stream",
     "text": [
      "('```json\\n'\n",
      " '{\\n'\n",
      " '  \"name\": \"체중 감량을 위한 계획 및 실천하기\",\\n'\n",
      " '  \"context\": \"윤형석은 체중 감량을 위해 구체적인 계획을 세우고 이를 실천해야 합니다. 평일에는 바쁜 일정을 고려하여 짧은 '\n",
      " '시간에 할 수 있는 운동과 식단 조절을 계획하고, 주말에는 여유롭게 운동과 요리를 통해 건강한 식습관을 유지할 수 있습니다.\",\\n'\n",
      " '  \"location_tags\": [\"집\", \"헬스장\", \"카페\"],\\n'\n",
      " '  \"time_tags\": [\"평일\", \"주말\", \"오전\", \"오후\", \"저녁\"],\\n'\n",
      " '  \"other_tags\": [\"건강\", \"자기계발\", \"목표 설정\"],\\n'\n",
      " '  \"tasks\": [\\n'\n",
      " '    {\\n'\n",
      " '      \"name\": \"체중 감량 목표 설정\",\\n'\n",
      " '      \"location_tags\": [\"집\"],\\n'\n",
      " '      \"time_tags\": [\"주말\", \"오후\"],\\n'\n",
      " '      \"other_tags\": [\"목표 설정\", \"건강\"],\\n'\n",
      " '      \"estimated_minutes\": 30\\n'\n",
      " '    },\\n'\n",
      " '    {\\n'\n",
      " '      \"name\": \"주간 운동 계획 세우기\",\\n'\n",
      " '      \"location_tags\": [\"집\"],\\n'\n",
      " '      \"time_tags\": [\"주말\", \"오후\"],\\n'\n",
      " '      \"other_tags\": [\"운동\", \"계획\"],\\n'\n",
      " '      \"estimated_minutes\": 30\\n'\n",
      " '    },\\n'\n",
      " '    {\\n'\n",
      " '      \"name\": \"헬스장 가서 운동하기\",\\n'\n",
      " '      \"location_tags\": [\"헬스장\"],\\n'\n",
      " '      \"time_tags\": [\"평일\", \"오후\"],\\n'\n",
      " '      \"other_tags\": [\"운동\", \"건강\"],\\n'\n",
      " '      \"estimated_minutes\": 60\\n'\n",
      " '    },\\n'\n",
      " '    {\\n'\n",
      " '      \"name\": \"건강한 식단 계획하기\",\\n'\n",
      " '      \"location_tags\": [\"집\"],\\n'\n",
      " '      \"time_tags\": [\"주말\", \"오후\"],\\n'\n",
      " '      \"other_tags\": [\"식단\", \"건강\"],\\n'\n",
      " '      \"estimated_minutes\": 45\\n'\n",
      " '    },\\n'\n",
      " '    {\\n'\n",
      " '      \"name\": \"식사 일지 작성하기\",\\n'\n",
      " '      \"location_tags\": [\"집\"],\\n'\n",
      " '      \"time_tags\": [\"평일\", \"저녁\"],\\n'\n",
      " '      \"other_tags\": [\"식단 관리\", \"자기계발\"],\\n'\n",
      " '      \"estimated_minutes\": 15\\n'\n",
      " '    },\\n'\n",
      " '    {\\n'\n",
      " '      \"name\": \"주말에 건강한 요리하기\",\\n'\n",
      " '      \"location_tags\": [\"집\", \"주방\"],\\n'\n",
      " '      \"time_tags\": [\"주말\", \"저녁\"],\\n'\n",
      " '      \"other_tags\": [\"요리\", \"건강\"],\\n'\n",
      " '      \"estimated_minutes\": 60\\n'\n",
      " '    },\\n'\n",
      " '    {\\n'\n",
      " '      \"name\": \"체중 측정 및 기록하기\",\\n'\n",
      " '      \"location_tags\": [\"집\"],\\n'\n",
      " '      \"time_tags\": [\"주말\", \"오전\"],\\n'\n",
      " '      \"other_tags\": [\"체중 관리\", \"목표 설정\"],\\n'\n",
      " '      \"estimated_minutes\": 10\\n'\n",
      " '    }\\n'\n",
      " '  ]\\n'\n",
      " '}\\n'\n",
      " '```')\n"
     ]
    }
   ],
   "source": [
    "print(task_response.content)"
   ]
  }
 ],
 "metadata": {
  "kernelspec": {
   "display_name": "GGTDD",
   "language": "python",
   "name": "python3"
  },
  "language_info": {
   "codemirror_mode": {
    "name": "ipython",
    "version": 3
   },
   "file_extension": ".py",
   "mimetype": "text/x-python",
   "name": "python",
   "nbconvert_exporter": "python",
   "pygments_lexer": "ipython3",
   "version": "3.12.9"
  }
 },
 "nbformat": 4,
 "nbformat_minor": 2
}
